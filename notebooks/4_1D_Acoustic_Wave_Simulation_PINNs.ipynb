{
 "cells": [
  {
   "cell_type": "markdown",
   "metadata": {},
   "source": [
    "# PINNs-Based 1D Acoustic Wave Simulation with a Source Term\n",
    "\n",
    "This notebook presents the numerical solution for the 1D elastic wave equation\n",
    "\n",
    "The acoustic wave equation in 1D with constant density \n",
    "\n",
    "$$\n",
    "\\partial^2_t u(x,t) \\ = \\ c^2 \\partial_x^2 u(x,t) + s(x,t)\n",
    "$$\n",
    "\n",
    "with pressure $p$, acoustic velocity $c$, and source term $s$.\n",
    "\n",
    "In the following code block, we import the necessary libraries for our notebook. This includes NumPy for numerical operations, PyTorch for building and training the neural network, Matplotlib for plotting, a utility module for additional plotting functions, and the time module for timing our training process."
   ]
  },
  {
   "cell_type": "code",
   "execution_count": 1,
   "metadata": {},
   "outputs": [],
   "source": [
    "# Import NumPy for numerical operations\n",
    "import numpy as np\n",
    "\n",
    "# Import PyTorch for building and training neural networks\n",
    "import torch\n",
    "import torch.nn as nn\n",
    "import torch.optim as optim\n",
    "\n",
    "# Import Matplotlib for plotting\n",
    "import matplotlib.pyplot as plt\n",
    "\n",
    "# Import a utility module for additional plotting functions\n",
    "import utils_plots\n",
    "\n",
    "# Import the time module to time our training process\n",
    "import time\n",
    "\n",
    "# Import pickle for save and load the variables\n",
    "import pickle\n",
    "\n",
    "# Ignore Warning Messages\n",
    "import warnings\n",
    "warnings.filterwarnings(\"ignore\")"
   ]
  },
  {
   "cell_type": "markdown",
   "metadata": {},
   "source": [
    "In the following code block, we load the data obteined from a spectral elements implemented in the notebook W9_se_homo_1d_solution.ipynb with modified input parameters of the course [computers, waves, simulations](https://www.coursera.org/learn/computers-waves-simulations)."
   ]
  },
  {
   "cell_type": "code",
   "execution_count": 63,
   "metadata": {},
   "outputs": [],
   "source": [
    "# Load the variables\n",
    "with open('4_se_data.pkl', 'rb') as f:\n",
    "    t_grid, x_grid, u_grid = pickle.load(f)\n",
    "    \n",
    "x_grid=np.array(x_grid)\n",
    "t_grid=np.array(t_grid)\n",
    "u_grid=np.array(u_grid)    "
   ]
  },
  {
   "cell_type": "code",
   "execution_count": 64,
   "metadata": {},
   "outputs": [
    {
     "data": {
      "image/png": "[encoded data removed]",
      "text/plain": [
       "<Figure size 320x220 with 2 Axes>"
      ]
     },
     "metadata": {},
     "output_type": "display_data"
    }
   ],
   "source": [
    "# Create a figure for the plot\n",
    "# Set the figure size in inches\n",
    "fig = plt.figure(figsize=(3.2, 2.2))\n",
    "\n",
    "# Plot the u values as a function of t and x using a filled contour plot\n",
    "# The 'levels' parameter determines the number and positions of the contour lines / regions\n",
    "plt.contourf(x_grid, t_grid, u_grid, levels=20)\n",
    "\n",
    "# Add a colorbar to the plot with the label 'u'\n",
    "# The colorbar provides a visual guide to the range of values in the plot\n",
    "plt.colorbar(label='$u$')\n",
    "\n",
    "# Label the x and y axes\n",
    "plt.xlabel('$x$')  # Label for the x-axis\n",
    "plt.ylabel('$t$')  # Label for the y-axis\n",
    "\n",
    "# Display the plot\n",
    "plt.show()"
   ]
  },
  {
   "cell_type": "markdown",
   "metadata": {},
   "source": [
    "In this simulation, we utilize a Gaussian function as the source term, which is typically characterized by its bell-shaped curve and defined by the following formula:\n",
    "\n",
    "$$\n",
    "s(x,t) = \\text{{factor}} \\cdot (t - t0) \\cdot \\exp(-a \\cdot (t - t0)^2)\n",
    "$$\n"
   ]
  },
  {
   "cell_type": "code",
   "execution_count": 124,
   "metadata": {},
   "outputs": [
    {
     "data": {
      "text/plain": [
       "(626,)"
      ]
     },
     "execution_count": 124,
     "metadata": {},
     "output_type": "execute_result"
    }
   ],
   "source": [
    "np.shape(x_grid_array)"
   ]
  },
  {
   "cell_type": "code",
   "execution_count": 125,
   "metadata": {},
   "outputs": [],
   "source": [
    "# Convert t_grid to a numpy array and select the first column\n",
    "t_grid_array = np.array(t_grid)[:,0]\n",
    "x_grid_array = np.array(x_grid)[0,:]\n",
    "\n",
    "# Calculate dt as the difference between the first two elements in t_grid_array\n",
    "dt = np.diff(t_grid_array)[0]\n",
    "\n",
    "# Calculate nt as the length of the differences in t_grid_array\n",
    "nt = len(t_grid_array)\n",
    "\n",
    "# Calculate nt as the length of the differences in t_grid_array\n",
    "nx = len(x_grid_array)\n",
    "\n",
    "# Define the factor for the source term\n",
    "factor = 10e-4\n",
    "\n",
    "# Create a time array from 0 to nt*dt with nt points\n",
    "t = np.linspace(0 * dt, nt * dt, nt)\n",
    "\n",
    "# Define the dominant frequency of the source (Hz)\n",
    "f0 = 25.\n",
    "\n",
    "# Calculate the source time shift\n",
    "t0 = 1.0 / f0\n",
    "\n",
    "# Calculate the constant 'a' for the Gaussian source term\n",
    "a = np.pi*np.pi*f0*f0\n",
    "\n",
    "# Calculate the Gaussian source term\n",
    "src = factor * 2 * (4 * f0) * np.exp(-1.0 * (4 * f0) ** 2 * (t - t0) ** 2)"
   ]
  },
  {
   "cell_type": "code",
   "execution_count": 126,
   "metadata": {},
   "outputs": [
    {
     "data": {
      "image/png": "[encoded data removed]",
      "text/plain": [
       "<Figure size 250x180 with 1 Axes>"
      ]
     },
     "metadata": {},
     "output_type": "display_data"
    }
   ],
   "source": [
    "# Create a figure for the plot\n",
    "fig, ax = plt.subplots(figsize=(2.5, 1.8))\n",
    "\n",
    "# Plot the function\n",
    "ax.plot(t,src, color='gray', linewidth=2)\n",
    "\n",
    "# Set the labels for the x and y axes\n",
    "ax.set_xlabel('$t$')\n",
    "ax.set_ylabel('$p$')\n",
    "\n",
    "# Display the grid\n",
    "ax.grid(True)\n",
    "\n",
    "# Display the plot\n",
    "plt.show()"
   ]
  },
  {
   "cell_type": "code",
   "execution_count": 150,
   "metadata": {},
   "outputs": [
    {
     "data": {
      "text/plain": [
       "torch.Size([626, 2])"
      ]
     },
     "execution_count": 150,
     "metadata": {},
     "output_type": "execute_result"
    }
   ],
   "source": [
    "np.shape(input_left_boundary)"
   ]
  },
  {
   "cell_type": "code",
   "execution_count": 167,
   "metadata": {},
   "outputs": [],
   "source": [
    "# Convert x_grid, t_grid, and u_grid to PyTorch tensors\n",
    "# The unsqueeze operation adds an extra dimension to the tensors\n",
    "# The requires_grad_ method tells PyTorch that it will need to compute gradients with respect to these tensors\n",
    "x_tensor = torch.from_numpy(x_grid).float().unsqueeze(-1).requires_grad_(True)\n",
    "t_tensor = torch.from_numpy(t_grid).float().unsqueeze(-1).requires_grad_(True)\n",
    "u_tensor = torch.from_numpy(u_grid).float().unsqueeze(-1)\n",
    "\n",
    "# Combine x and t tensors to form the input data for the neural network\n",
    "# The cat operation concatenates the tensors along the last dimension\n",
    "input_data = torch.cat((x_tensor, t_tensor), dim=-1)\n",
    "\n",
    "# Define the x and t boundaries of the problem domain\n",
    "x_boundary = torch.linspace(0, np.max(x_grid), nx).view(-1, 1).requires_grad_(True)\n",
    "t_boundary = torch.linspace(0, np.max(t_grid), nt).view(-1, 1).requires_grad_(True)\n",
    "\n",
    "# Define the left and bottom boundaries as zeros\n",
    "x_left_boundary = torch.zeros_like(t_boundary)\n",
    "t_left_boundary = t_boundary\n",
    "\n",
    "x_right_boundary = np.max(x_grid) * torch.ones_like(t_boundary)\n",
    "t_right_boundary = t_boundary\n",
    "\n",
    "x_bottom_boundary = x_boundary\n",
    "t_bottom_boundary = torch.zeros_like(x_boundary)\n",
    "\n",
    "x_top_boundary = x_boundary\n",
    "t_top_boundary = np.max(t_grid) * torch.ones_like(x_boundary)\n",
    "\n",
    "# Combine the boundary tensors to form the input data for the boundary conditions\n",
    "input_left_boundary = torch.cat((x_left_boundary, t_left_boundary), dim=-1)\n",
    "input_bottom_boundary = torch.cat((x_bottom_boundary, t_bottom_boundary), dim=-1)\n",
    "input_right_boundary = torch.cat((x_right_boundary, t_right_boundary), dim=-1)\n",
    "input_top_boundary = torch.cat((x_top_boundary, t_top_boundary), dim=-1)\n"
   ]
  }
 ],
 "metadata": {
  "kernelspec": {
   "display_name": "pinn",
   "language": "python",
   "name": "python3"
  },
  "language_info": {
   "codemirror_mode": {
    "name": "ipython",
    "version": 3
   },
   "file_extension": ".py",
   "mimetype": "text/x-python",
   "name": "python",
   "nbconvert_exporter": "python",
   "pygments_lexer": "ipython3",
   "version": "3.12.2"
  }
 },
 "nbformat": 4,
 "nbformat_minor": 2
}
