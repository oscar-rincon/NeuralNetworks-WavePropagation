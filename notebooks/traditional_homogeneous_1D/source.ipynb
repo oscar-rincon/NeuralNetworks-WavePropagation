{
 "cells": [
  {
   "cell_type": "code",
   "execution_count": 6,
   "metadata": {},
   "outputs": [],
   "source": [
    "# Import NumPy for numerical operations\n",
    "import numpy as np\n",
    "\n",
    "# Import PyTorch for building and training neural networks\n",
    "import torch\n",
    "import torch.nn as nn\n",
    "import torch.optim as optim\n",
    "\n",
    "# Import Matplotlib for plotting\n",
    "import matplotlib.pyplot as plt\n",
    "\n",
    "# Import libraries for random operations and data serialization\n",
    "import random\n",
    "import pickle\n",
    "\n",
    "# Import a utility module for additional plotting functions\n",
    "import utils_plots\n",
    "\n",
    "# Import the time module to time our training process\n",
    "import time\n",
    "\n",
    "# Ignore Warning Messages\n",
    "import warnings\n",
    "warnings.filterwarnings(\"ignore\")\n",
    "\n",
    "\n",
    "from ricker import ricker\n",
    "from gll import gll\n",
    "from lagrange1st import lagrange1st "
   ]
  },
  {
   "cell_type": "code",
   "execution_count": 27,
   "metadata": {},
   "outputs": [
    {
     "data": {
      "text/plain": [
       "7.518229634257068e-05"
      ]
     },
     "execution_count": 27,
     "metadata": {},
     "output_type": "execute_result"
    }
   ],
   "source": [
    "# Initialization of setup\n",
    "# ---------------------------------------------------------------\n",
    "nt    = 10_000       # number of time steps\n",
    "xmax  = 1000.        # Length of domain [m]\n",
    "vs    = 2500.         # S velocity [m/s]\n",
    "rho   = 2200          # Density [kg/m^3]\n",
    "mu    = rho * vs**2   # Shear modulus mu\n",
    "N     = 5           # Order of Lagrange polynomials\n",
    "ne    = 125           # Number of elements\n",
    "Tdom  = 0.2            # Dominant period of Ricker source wavelet\n",
    "iplot = 5            # Plotting each iplot snapshot\n",
    "\n",
    "# variables for elemental matrices\n",
    "Me = np.zeros(N+1, dtype =  float)\n",
    "Ke = np.zeros((N+1, N+1), dtype =  float)\n",
    "# ----------------------------------------------------------------\n",
    "\n",
    "# Initialization of GLL points integration weights\n",
    "[xi, w] = gll(N)    # xi, N+1 coordinates [-1 1] of GLL points\n",
    "                    # w Integration weights at GLL locations\n",
    "# Space domain\n",
    "le = xmax/ne        # Length of elements\n",
    "# Vector with GLL points  \n",
    "k = 0\n",
    "\n",
    "# Initialization of physical coordinates xg in the entire space (commment added May 15, 2020)\n",
    "xg = np.zeros((N*ne)+1) \n",
    "xg[k] = 0\n",
    "for i in range(1,ne+1):\n",
    "    for j in range(0,N):\n",
    "        k = k+1\n",
    "        xg[k] = (i-1)*le + .5*(xi[j+1]+1)*le\n",
    "\n",
    "# ---------------------------------------------------------------\n",
    "dxmin = min(np.diff(xg))  \n",
    "eps = 0.2           # Courant value\n",
    "dt = eps*dxmin/vs   # Global time step\n",
    "# initialize source time function and force vector f\n",
    "src  = ricker(dt,Tdom)\n",
    "dt"
   ]
  },
  {
   "cell_type": "code",
   "execution_count": 28,
   "metadata": {},
   "outputs": [
    {
     "data": {
      "image/png": "[encoded data removed]",
      "text/plain": [
       "<Figure size 250x180 with 1 Axes>"
      ]
     },
     "metadata": {},
     "output_type": "display_data"
    }
   ],
   "source": [
    "# Create a figure for the plot\n",
    "fig, ax = plt.subplots(figsize=(2.5, 1.8))\n",
    "\n",
    "# Plot the function\n",
    "ax.plot(src, color='gray', linewidth=2)\n",
    "\n",
    "# Set the labels for the x and y axes\n",
    "ax.set_xlabel('$t$')\n",
    "ax.set_ylabel('$p$')\n",
    "\n",
    "# Display the grid\n",
    "ax.grid(True)\n",
    "\n",
    "# Set the title for the plot\n",
    "#ax.set_title(r'$y=\\sin(x)$')\n",
    "\n",
    "# Save the plot as a PDF file in the 'imgs' directory\n",
    "#fig.savefig('imgs/1_sine_function.png', format='png')\n",
    "\n",
    "# Display the plot\n",
    "plt.show()"
   ]
  },
  {
   "cell_type": "code",
   "execution_count": null,
   "metadata": {},
   "outputs": [],
   "source": [
    "# SE Solution, Time extrapolation\n",
    "# ---------------------------------------------------------------\n",
    "#factor = 10e+8\n",
    "# initialize source time function and force vector f\n",
    "#src  = factor*ricker(dt,Tdom)\n",
    "t = np.linspace(0 * dt, nt * dt, nt)\n",
    "f0 = 25. # dominant frequency of the source (Hz)\n",
    "t0 = 0.7 / f0 # source time shift\n",
    "a = np.pi*np.pi*f0*f0\n",
    "#src = factor * np.exp(-a*(t-t0)**2) / (2 * a)\n",
    "# src = - factor * (t-t0)*np.exp(-a*(t-t0)**2)\n",
    "#src = - factor * (1 - 2*a*(t-t0)**2)*np.exp(-a*(t-t0)**2)\n",
    "# Source time function (Gaussian)\n",
    "# -------------------------------\n",
    "# Source time function parameters\n",
    "# f0   = 25. # dominant frequency of the source (Hz)\n",
    "# t0   = 0.5 / f0 # source time shift\n",
    "# factor = 10e+8 \n",
    "# src  = np.zeros(nt + 1)\n",
    "# time = np.linspace(0 * dt, nt * dt, nt)\n",
    "# # 1st derivative of a Gaussian\n",
    "src  = -8. * (t - t0) * f0 * (np.exp(-1.0 * (4*f0) ** 2 * (t - t0) ** 2))"
   ]
  },
  {
   "cell_type": "code",
   "execution_count": 56,
   "metadata": {},
   "outputs": [
    {
     "data": {
      "text/plain": [
       "(2500, 626)"
      ]
     },
     "execution_count": 56,
     "metadata": {},
     "output_type": "execute_result"
    }
   ],
   "source": [
    "# Open the file containing the data\n",
    "with open('4_se_data.pkl', 'rb') as f:\n",
    "    # Load the data from the file\n",
    "    # t_grid, x_grid, and u_grid are expected to be in the file\n",
    "    t_grid, x_grid, u_grid = pickle.load(f)\n",
    "\n",
    "\n",
    "x_grid = np.array(x_grid)  # Grid of x values\n",
    "t_grid = np.array(t_grid)  # Grid of t (time) values\n",
    "u_grid = np.array(u_grid)  # Grid of u (wave amplitude) values\n",
    "\n",
    "f0 = 25. # dominant frequency of the source (Hz)\n",
    "t0 = 0.7 / f0 # source time shift\n",
    "\n",
    "# Define the source function\n",
    "def src(t):\n",
    "    return -8. * (t - t0) * f0 * (np.exp(-1.0 * (4*f0) ** 2 * (t - t0) ** 2))\n",
    "\n",
    "# Create a grid for the source amplitude\n",
    "source_grid = np.zeros((len(t_grid[:,0]),len(x_grid[1])))\n",
    "\n",
    "# Set the source amplitude at x=max(x_grid)/2 for all t\n",
    "source_grid[:,int(len(x_grid[1])/2) ] = src(t_grid[:,1])\n",
    "\n",
    "np.shape(source_grid)"
   ]
  },
  {
   "cell_type": "code",
   "execution_count": 50,
   "metadata": {},
   "outputs": [
    {
     "data": {
      "text/plain": [
       "626"
      ]
     },
     "execution_count": 50,
     "metadata": {},
     "output_type": "execute_result"
    }
   ],
   "source": [
    "len(x_grid[1])"
   ]
  },
  {
   "cell_type": "code",
   "execution_count": 35,
   "metadata": {},
   "outputs": [
    {
     "data": {
      "text/plain": [
       "[<matplotlib.lines.Line2D at 0x7fc5f836e180>]"
      ]
     },
     "execution_count": 35,
     "metadata": {},
     "output_type": "execute_result"
    },
    {
     "data": {
      "image/png": "[encoded data removed]",
      "text/plain": [
       "<Figure size 640x480 with 1 Axes>"
      ]
     },
     "metadata": {},
     "output_type": "display_data"
    }
   ],
   "source": [
    "plt.plot(src(t_grid[:,1]))"
   ]
  },
  {
   "cell_type": "code",
   "execution_count": 47,
   "metadata": {},
   "outputs": [
    {
     "data": {
      "text/plain": [
       "(2500, 626)"
      ]
     },
     "execution_count": 47,
     "metadata": {},
     "output_type": "execute_result"
    }
   ],
   "source": [
    "np.shape(x_grid)"
   ]
  },
  {
   "cell_type": "code",
   "execution_count": 55,
   "metadata": {},
   "outputs": [
    {
     "data": {
      "text/plain": [
       "<matplotlib.contour.QuadContourSet at 0x7fc5f8b884d0>"
      ]
     },
     "execution_count": 55,
     "metadata": {},
     "output_type": "execute_result"
    },
    {
     "data": {
      "image/png": "[encoded data removed]",
      "text/plain": [
       "<Figure size 640x480 with 1 Axes>"
      ]
     },
     "metadata": {},
     "output_type": "display_data"
    }
   ],
   "source": [
    "plt.contourf(u_source_grid)"
   ]
  }
 ],
 "metadata": {
  "kernelspec": {
   "display_name": "pinn",
   "language": "python",
   "name": "python3"
  },
  "language_info": {
   "codemirror_mode": {
    "name": "ipython",
    "version": 3
   },
   "file_extension": ".py",
   "mimetype": "text/x-python",
   "name": "python",
   "nbconvert_exporter": "python",
   "pygments_lexer": "ipython3",
   "version": "3.12.2"
  }
 },
 "nbformat": 4,
 "nbformat_minor": 2
}
