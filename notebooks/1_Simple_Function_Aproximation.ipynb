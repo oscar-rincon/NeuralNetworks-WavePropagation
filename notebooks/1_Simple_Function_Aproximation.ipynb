{
 "cells": [
  {
   "cell_type": "markdown",
   "metadata": {},
   "source": [
    "# Simple Function Approximation with PyTorch\n",
    "\n",
    "This notebook demonstrates the use of PyTorch, a open-source machine learning library, for approximating simple functions. The goal is to understand the basics of PyTorch and how it can be used to build and train neural networks. \n",
    "\n",
    "This notebook is ideal for beginners who want to get hands-on experience with PyTorch and understand its basic functionality in the context of function approximation.\n",
    "\n",
    "In the following code block, we import the necessary libraries for our notebook. This includes NumPy for numerical operations, PyTorch for building and training the neural network, Matplotlib for plotting, a utility module for additional plotting functions, and the time module for timing our training process."
   ]
  },
  {
   "cell_type": "code",
   "execution_count": 1,
   "metadata": {},
   "outputs": [],
   "source": [
    "# Import NumPy for numerical operations\n",
    "import numpy as np\n",
    "\n",
    "# Import PyTorch for building and training neural networks\n",
    "import torch\n",
    "import torch.nn as nn\n",
    "import torch.optim as optim\n",
    "\n",
    "# Import Matplotlib for plotting\n",
    "import matplotlib.pyplot as plt\n",
    "\n",
    "# Import a utility module for additional plotting functions\n",
    "import utils_plots\n",
    "\n",
    "# Import the time module to time our training process\n",
    "import time\n",
    "\n",
    "# Ignore Warning Messages\n",
    "import warnings\n",
    "warnings.filterwarnings(\"ignore\")"
   ]
  },
  {
   "cell_type": "markdown",
   "metadata": {},
   "source": [
    "This cell defines the sine function to approximate, generates training data with evenly spaced values and creates a plot of the function."
   ]
  },
  {
   "cell_type": "code",
   "execution_count": 2,
   "metadata": {},
   "outputs": [
    {
     "data": {
      "image/png": "[encoded data removed]",
      "text/plain": [
       "<Figure size 250x180 with 1 Axes>"
      ]
     },
     "metadata": {},
     "output_type": "display_data"
    }
   ],
   "source": [
    "# Define the function to be approximated\n",
    "def func(x):\n",
    "    return np.sin(x)\n",
    "\n",
    "# Generate training data in NumPy\n",
    "x_np = np.linspace(0, 20, 100)  # x data (numpy array), shape=(100,)\n",
    "y_np = func(x_np)  # y data (numpy array), shape=(100,)\n",
    "\n",
    "# Create a figure for the plot\n",
    "fig, ax = plt.subplots(figsize=(2.5, 1.8))\n",
    "\n",
    "# Plot the function\n",
    "ax.plot(x_np, y_np, color='gray', linewidth=2)\n",
    "\n",
    "# Set the labels for the x and y axes\n",
    "ax.set_xlabel('$x$')\n",
    "ax.set_ylabel('$y$')\n",
    "\n",
    "# Display the grid\n",
    "ax.grid(True)\n",
    "\n",
    "# Set the title for the plot\n",
    "ax.set_title(r'$y=\\sin(x)$')\n",
    "\n",
    "# Save the plot as a PDF file in the 'imgs' directory\n",
    "fig.savefig('imgs/1_sine_function.png', format='png')\n",
    "\n",
    "# Display the plot\n",
    "plt.show()"
   ]
  },
  {
   "cell_type": "markdown",
   "metadata": {},
   "source": [
    "This cell converts the `x_np` and `y_np` NumPy arrays to PyTorch tensors, adding an extra dimension for PyTorch compatibility."
   ]
  },
  {
   "cell_type": "code",
   "execution_count": 3,
   "metadata": {},
   "outputs": [],
   "source": [
    "# Convert the NumPy arrays to PyTorch tensors and add an extra dimension\n",
    "input_data = torch.from_numpy(x_np).float().unsqueeze(-1)  # Convert x data to a PyTorch tensor\n",
    "y = torch.from_numpy(y_np).float().unsqueeze(-1)  # Convert y data to a PyTorch tensor"
   ]
  },
  {
   "cell_type": "markdown",
   "metadata": {},
   "source": [
    "This cell defines a simple neural network with three fully connected layers. The network is designed to take a single input and produce a single output. The first two layers use the hyperbolic tangent (`tanh`) activation function, while the output layer has no activation function. An instance of this network is created, and the Adam optimizer and Mean Squared Error loss function are set up for training."
   ]
  },
  {
   "cell_type": "code",
   "execution_count": 4,
   "metadata": {},
   "outputs": [],
   "source": [
    "# Define a neural network class with three fully connected layers\n",
    "class NeuralNetwork(nn.Module):\n",
    "    def __init__(self):\n",
    "        super(NeuralNetwork, self).__init__()\n",
    "        self.layer1 = nn.Linear(1, 10)\n",
    "        self.layer2 = nn.Linear(10, 10)\n",
    "        self.output_layer = nn.Linear(10, 1)\n",
    "\n",
    "    def forward(self, x):\n",
    "        x = torch.tanh(self.layer1(x))\n",
    "        x = torch.tanh(self.layer2(x))\n",
    "        x = self.output_layer(x)\n",
    "        return x\n",
    "    \n",
    "# Create an instance of the neural network\n",
    "neural_net = NeuralNetwork()\n",
    "\n",
    "# Define an optimizer (Adam) for training the network\n",
    "optimizer = optim.Adam(neural_net.parameters(), lr=0.01)\n",
    "\n",
    "# Define a loss function (Mean Squared Error) for training the network\n",
    "loss_func = nn.MSELoss()"
   ]
  },
  {
   "cell_type": "markdown",
   "metadata": {},
   "source": [
    "This cell trains the neural network for 10_000 iterations, storing the loss values and printing them every 1000 iterations. It also measures the training time. After training, it saves a summary of the training process, including the training time, number of iterations, initial and final loss, neural network architecture, optimizer used, and learning rate, to a text file."
   ]
  },
  {
   "cell_type": "code",
   "execution_count": 5,
   "metadata": {},
   "outputs": [
    {
     "name": "stdout",
     "output_type": "stream",
     "text": [
      "Iteration 0: Loss 0.7288495898246765\n",
      "Iteration 1000: Loss 0.21105976402759552\n",
      "Iteration 2000: Loss 0.159629225730896\n",
      "Iteration 3000: Loss 0.17263217270374298\n",
      "Iteration 4000: Loss 0.0033639681059867144\n",
      "Iteration 5000: Loss 0.00018764105334412307\n",
      "Iteration 6000: Loss 7.983286923263222e-05\n",
      "Iteration 7000: Loss 6.17645782767795e-05\n",
      "Iteration 8000: Loss 0.00019531995349097997\n",
      "Iteration 9000: Loss 0.004774237517267466\n",
      "Iteration 10000: Loss 8.552701183361933e-05\n",
      "Training time: 6.2284111976623535 seconds\n"
     ]
    }
   ],
   "source": [
    "# Initialize a list to store the loss values\n",
    "loss_values = []\n",
    "\n",
    "# Start the timer\n",
    "start_time = time.time()\n",
    "\n",
    "# Training the neural network\n",
    "for i in range(10_001):\n",
    "    prediction = neural_net(input_data)     # input x and predict based on x\n",
    "    loss = loss_func(prediction, y)     # must be (1. nn output, 2. target)\n",
    "    \n",
    "    # Append the current loss value to the list\n",
    "    loss_values.append(loss.item())\n",
    "    \n",
    "    if i % 1000 == 0:  # print every 100 iterations\n",
    "        print(f\"Iteration {i}: Loss {loss.item()}\")\n",
    "    \n",
    "    optimizer.zero_grad()   # clear gradients for next train\n",
    "    loss.backward()         # backpropagation, compute gradients\n",
    "    optimizer.step()\n",
    "\n",
    "# Stop the timer and calculate the elapsed time\n",
    "end_time = time.time()\n",
    "elapsed_time = end_time - start_time\n",
    "print(f\"Training time: {elapsed_time} seconds\")\n",
    "\n",
    "    \n",
    "# Save a summary of the training process to a text file\n",
    "with open(\"summaries/1_Simple_Function_Aproximation.txt\", \"w\") as file:\n",
    "    file.write(\"Summary of Neural Network Training\\n\")\n",
    "    file.write(\"=================================\\n\\n\")\n",
    "    file.write(f\"Neural Network Architecture:\\n{neural_net}\\n\\n\")\n",
    "    file.write(f\"Optimizer Used:\\n{type(optimizer).__name__}\\n\\n\")\n",
    "    file.write(f\"Learning Rate:\\n{optimizer.param_groups[0]['lr']}\\n\\n\")\n",
    "    file.write(f\"Number of Iterations:\\n{len(loss_values)}\\n\\n\")\n",
    "    file.write(f\"Initial Loss:\\n{loss_values[0]}\\n\\n\")\n",
    "    file.write(f\"Final Loss:\\n{loss_values[-1]}\\n\\n\")\n",
    "    file.write(f\"Training Time:\\n{elapsed_time} seconds\\n\\n\")\n",
    "    \n",
    "    # Calculate the average loss\n",
    "    average_loss = sum(loss_values) / len(loss_values)\n",
    "    file.write(f\"Average Loss:\\n{average_loss}\\n\\n\")\n",
    "    \n",
    "    # Find the iteration with the minimum loss\n",
    "    min_loss_value = min(loss_values)\n",
    "    min_loss_iteration = loss_values.index(min_loss_value)\n",
    "    file.write(f\"Minimum Loss:\\n{min_loss_value} at iteration {min_loss_iteration}\\n\\n\")    "
   ]
  },
  {
   "cell_type": "markdown",
   "metadata": {},
   "source": [
    "In the following code block, we plot the loss values recorded during the training process. This plot helps us visualize how the loss decreases over time, indicating that our neural network is learning to approximate the wave function more accurately with each iteration."
   ]
  },
  {
   "cell_type": "code",
   "execution_count": 6,
   "metadata": {},
   "outputs": [
    {
     "data": {
      "image/png": "[encoded data removed]",
      "text/plain": [
       "<Figure size 250x220 with 1 Axes>"
      ]
     },
     "metadata": {},
     "output_type": "display_data"
    }
   ],
   "source": [
    "# Create a figure for the plot\n",
    "fig = plt.figure(figsize=(2.5, 2.2))\n",
    "\n",
    "# Plot the loss values recorded during training\n",
    "plt.plot(loss_values, color='gray', linewidth=2)\n",
    "\n",
    "# Set the labels for the x and y axes\n",
    "plt.xlabel('Iteration')\n",
    "plt.ylabel('Loss')\n",
    "\n",
    "# Set the title for the plot\n",
    "plt.title('Training Progress')\n",
    "\n",
    "# Display the grid\n",
    "plt.grid(True)\n",
    "\n",
    "# Save the plot as a PDF file in the 'imgs' directory\n",
    "fig.savefig('imgs/1_Training_Progress_Simple_Function_Aproximation.png', format='png')\n",
    "\n",
    "# Display the plot\n",
    "plt.show()"
   ]
  },
  {
   "cell_type": "markdown",
   "metadata": {},
   "source": [
    "In the following code block, we save the trained model's parameters to a file. We then initialize a new instance of the neural network and load the saved parameters into this new instance. This allows us to reuse the trained model without having to retrain it."
   ]
  },
  {
   "cell_type": "code",
   "execution_count": 7,
   "metadata": {},
   "outputs": [
    {
     "data": {
      "text/plain": [
       "NeuralNetwork(\n",
       "  (layer1): Linear(in_features=1, out_features=10, bias=True)\n",
       "  (layer2): Linear(in_features=10, out_features=10, bias=True)\n",
       "  (output_layer): Linear(in_features=10, out_features=1, bias=True)\n",
       ")"
      ]
     },
     "execution_count": 7,
     "metadata": {},
     "output_type": "execute_result"
    }
   ],
   "source": [
    "# Save the trained model's parameters to a file\n",
    "torch.save(neural_net.state_dict(), 'models/1_Simple_Function_Aproximation.pth')\n",
    "\n",
    "# Initialize a new instance of the neural network\n",
    "new_neural_net = NeuralNetwork()\n",
    "\n",
    "# Load the saved parameters into the new instance of the neural network\n",
    "new_neural_net.load_state_dict(torch.load('models/1_Simple_Function_Aproximation.pth'))\n",
    "\n",
    "# Ensure the new neural network is in evaluation mode\n",
    "new_neural_net.eval()"
   ]
  },
  {
   "cell_type": "markdown",
   "metadata": {},
   "source": [
    "In the following code block, we use the trained neural network to generate predictions for $y$ (`ypred`) based on the input data. We then plot these predicted $y$s  values and the difference between the predicted and actual `y` values. This allows us to visually assess the performance of our neural network."
   ]
  },
  {
   "cell_type": "code",
   "execution_count": 8,
   "metadata": {},
   "outputs": [
    {
     "data": {
      "image/png": "[encoded data removed]",
      "text/plain": [
       "<Figure size 900x200 with 3 Axes>"
      ]
     },
     "metadata": {},
     "output_type": "display_data"
    }
   ],
   "source": [
    "def plot_predictions(input_data, y_true, y_pred):\n",
    "    # Convert tensors to numpy arrays for plotting\n",
    "    x_np = input_data.detach().numpy()\n",
    "    y_np = y_true.detach().numpy()\n",
    "    ypred_np = y_pred.detach().numpy()\n",
    "\n",
    "    # Create a figure with two subplots\n",
    "    fig, axs = plt.subplots(1, 3, figsize=(9, 2))\n",
    "    \n",
    "    # Plot the actual y values\n",
    "    axs[0].plot(x_np, y_np, color='gray', linewidth=2)\n",
    "    axs[0].set_title('Original')\n",
    "    axs[0].set_xlabel('$x$')\n",
    "    axs[0].set_ylabel('$y$')    \n",
    "\n",
    "    # Plot the predicted y values\n",
    "    axs[1].plot(x_np, ypred_np, color='gray', linewidth=2)\n",
    "    axs[1].set_title('Predicted')\n",
    "    axs[1].set_xlabel('$x$')\n",
    "    axs[1].set_ylabel('$y_{pred}$')\n",
    "\n",
    "    # Plot the difference between the predicted and actual y values\n",
    "    difference = y_np - ypred_np\n",
    "    axs[2].plot(x_np, difference, color='gray', linewidth=2)\n",
    "    axs[2].set_title('Difference')\n",
    "    axs[2].set_xlabel('$x$')\n",
    "    axs[2].set_ylabel('$y - y_{pred}$')\n",
    "\n",
    "    # Save the plot as a PNG file in the 'imgs' directory\n",
    "    fig.savefig(f'imgs/1_Predicted_and_Difference_Simple_Function_Aproximation.png', format='png')\n",
    "\n",
    "    # Display the plot\n",
    "    plt.show()\n",
    "    \n",
    "# Generate predictions using the neural network\n",
    "ypred = neural_net(input_data)\n",
    "\n",
    "# Plot the predictions and the difference\n",
    "plot_predictions(input_data, y, ypred)    "
   ]
  },
  {
   "cell_type": "markdown",
   "metadata": {},
   "source": [
    "**Summary**\n",
    "\n",
    "This notebook presents an introduction to approximating simple functions using PyTorch. The key points are:\n",
    "\n",
    "- Import necessary libraries (NumPy, PyTorch, Matplotlib).\n",
    "- Define the sine function to be approximated and generate training data.\n",
    "- Convert the data to PyTorch tensors.\n",
    "- Define and train a simple neural network with three fully connected layers.\n",
    "- Visualize the training progress and save the model parameters.\n",
    "- Generate predictions and visualize the model's performance."
   ]
  }
 ],
 "metadata": {
  "kernelspec": {
   "display_name": "pinn",
   "language": "python",
   "name": "python3"
  },
  "language_info": {
   "codemirror_mode": {
    "name": "ipython",
    "version": 3
   },
   "file_extension": ".py",
   "mimetype": "text/x-python",
   "name": "python",
   "nbconvert_exporter": "python",
   "pygments_lexer": "ipython3",
   "version": "3.12.3"
  }
 },
 "nbformat": 4,
 "nbformat_minor": 2
}
