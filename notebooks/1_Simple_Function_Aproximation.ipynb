{
 "cells": [
  {
   "cell_type": "markdown",
   "metadata": {},
   "source": [
    "# Simple Function Approximation with PyTorch\n",
    "\n",
    "This notebook demonstrates the use of PyTorch, a powerful open-source machine learning library, for approximating simple functions. The goal is to understand the basics of PyTorch and how it can be used to build and train neural networks. \n",
    "\n",
    "This notebook is ideal for beginners who want to get hands-on experience with PyTorch and understand its basic functionality in the context of function approximation.\n",
    "\n",
    "In the following code block, we import the necessary libraries for our notebook. This includes NumPy for numerical operations, PyTorch for building and training the neural network, Matplotlib for plotting, a utility module for additional plotting functions, and the time module for timing our training process."
   ]
  },
  {
   "cell_type": "code",
   "execution_count": 14,
   "metadata": {},
   "outputs": [],
   "source": [
    "# Import NumPy for numerical operations\n",
    "import numpy as np\n",
    "\n",
    "# Import PyTorch for building and training neural networks\n",
    "import torch\n",
    "import torch.nn as nn\n",
    "import torch.optim as optim\n",
    "\n",
    "# Import Matplotlib for plotting\n",
    "import matplotlib.pyplot as plt\n",
    "\n",
    "# Import a utility module for additional plotting functions\n",
    "import utils_plots\n",
    "\n",
    "# Import the time module to time our training process\n",
    "import time"
   ]
  },
  {
   "cell_type": "markdown",
   "metadata": {},
   "source": [
    "This cell defines the sine function to approximate, generates training data with evenly spaced values, creates a plot of the function."
   ]
  },
  {
   "cell_type": "code",
   "execution_count": 15,
   "metadata": {},
   "outputs": [
    {
     "data": {
      "image/png": "[encoded data removed]",
      "text/plain": [
       "<Figure size 250x180 with 1 Axes>"
      ]
     },
     "metadata": {},
     "output_type": "display_data"
    }
   ],
   "source": [
    "# Define the function to be approximated\n",
    "def func(x):\n",
    "    return np.sin(x)\n",
    "\n",
    "# Generate training data in NumPy\n",
    "x_np = np.linspace(0, 20, 100)  # x data (numpy array), shape=(100,)\n",
    "y_np = func(x_np)  # y data (numpy array), shape=(100,)\n",
    "\n",
    "# Create a figure for the plot\n",
    "fig, ax = plt.subplots(figsize=(2.5, 1.8))\n",
    "\n",
    "# Plot the function\n",
    "ax.plot(x_np, y_np, color='gray', linewidth=2)\n",
    "\n",
    "# Set the labels for the x and y axes\n",
    "ax.set_xlabel('$x$')\n",
    "ax.set_ylabel('$y$')\n",
    "\n",
    "# Display the grid\n",
    "ax.grid(True)\n",
    "\n",
    "# Set the title for the plot\n",
    "ax.set_title(r'$y=\\sin(x)$')\n",
    "\n",
    "# Save the plot as a PDF file in the 'imgs' directory\n",
    "fig.savefig('imgs/1_sine_function.png', format='png')\n",
    "\n",
    "# Display the plot\n",
    "plt.show()"
   ]
  },
  {
   "cell_type": "markdown",
   "metadata": {},
   "source": [
    "This cell converts the `x_np` and `y_np` NumPy arrays to PyTorch tensors, adding an extra dimension for PyTorch compatibility."
   ]
  },
  {
   "cell_type": "code",
   "execution_count": 16,
   "metadata": {},
   "outputs": [],
   "source": [
    "# Convert the NumPy arrays to PyTorch tensors and add an extra dimension\n",
    "input_data = torch.from_numpy(x_np).float().unsqueeze(-1)  # Convert x data to a PyTorch tensor\n",
    "y = torch.from_numpy(y_np).float().unsqueeze(-1)  # Convert y data to a PyTorch tensor"
   ]
  },
  {
   "cell_type": "markdown",
   "metadata": {},
   "source": [
    "This cell defines a simple neural network with three fully connected layers. The network is designed to take a single input and produce a single output. The first two layers use the hyperbolic tangent (`tanh`) activation function, while the output layer has no activation function. An instance of this network is created, and the Adam optimizer and Mean Squared Error loss function are set up for training."
   ]
  },
  {
   "cell_type": "code",
   "execution_count": 17,
   "metadata": {},
   "outputs": [],
   "source": [
    "# Define a neural network class with three fully connected layers\n",
    "class NeuralNetwork(nn.Module):\n",
    "    def __init__(self):\n",
    "        super(NeuralNetwork, self).__init__()\n",
    "        self.layer1 = nn.Linear(1, 10)\n",
    "        self.layer2 = nn.Linear(10, 10)\n",
    "        self.output_layer = nn.Linear(10, 1)\n",
    "\n",
    "    def forward(self, x):\n",
    "        x = torch.tanh(self.layer1(x))\n",
    "        x = torch.tanh(self.layer2(x))\n",
    "        x = self.output_layer(x)\n",
    "        return x\n",
    "    \n",
    "# Create an instance of the neural network\n",
    "neural_net = NeuralNetwork()\n",
    "\n",
    "# Define an optimizer (Adam) for training the network\n",
    "optimizer = optim.Adam(neural_net.parameters(), lr=0.01)\n",
    "\n",
    "# Define a loss function (Mean Squared Error) for training the network\n",
    "loss_func = nn.MSELoss()"
   ]
  },
  {
   "cell_type": "markdown",
   "metadata": {},
   "source": [
    "This cell trains the neural network for 10_000 iterations, storing the loss values and printing them every 1000 iterations. It also measures the training time. After training, it saves a summary of the training process, including the training time, number of iterations, initial and final loss, neural network architecture, optimizer used, and learning rate, to a text file."
   ]
  },
  {
   "cell_type": "code",
   "execution_count": 23,
   "metadata": {},
   "outputs": [
    {
     "name": "stdout",
     "output_type": "stream",
     "text": [
      "Iteration 0: Loss 0.21280235052108765\n",
      "Iteration 100: Loss 0.14141526818275452\n",
      "Iteration 200: Loss 0.126824751496315\n",
      "Iteration 300: Loss 0.1239662915468216\n",
      "Iteration 400: Loss 0.12252045422792435\n",
      "Iteration 500: Loss 0.12126424163579941\n",
      "Iteration 600: Loss 0.11951462924480438\n",
      "Iteration 700: Loss 0.11373507231473923\n",
      "Iteration 800: Loss 0.05256446450948715\n",
      "Iteration 900: Loss 0.03297041729092598\n",
      "Iteration 1000: Loss 0.002218694891780615\n",
      "Iteration 1100: Loss 0.00071982346707955\n",
      "Iteration 1200: Loss 0.0005090967752039433\n",
      "Iteration 1300: Loss 0.0005339041235856712\n",
      "Iteration 1400: Loss 0.0004719431744888425\n",
      "Iteration 1500: Loss 0.0004549145232886076\n",
      "Iteration 1600: Loss 0.0004504552052821964\n",
      "Iteration 1700: Loss 0.0004628508468158543\n",
      "Iteration 1800: Loss 0.0004445824888534844\n",
      "Iteration 1900: Loss 0.00043634616304188967\n",
      "Iteration 2000: Loss 0.0005470411269925535\n",
      "Iteration 2100: Loss 0.0004404681676533073\n",
      "Iteration 2200: Loss 0.0004308593343012035\n",
      "Iteration 2300: Loss 0.00042420290992595255\n",
      "Iteration 2400: Loss 0.0006952738622203469\n",
      "Iteration 2500: Loss 0.00042579698492772877\n",
      "Iteration 2600: Loss 0.00041796057485044\n",
      "Iteration 2700: Loss 0.0004120676894672215\n",
      "Iteration 2800: Loss 0.0004611939948517829\n",
      "Iteration 2900: Loss 0.0004137918585911393\n",
      "Iteration 3000: Loss 0.0004066147666890174\n",
      "Iteration 3100: Loss 0.00040111731505021453\n",
      "Iteration 3200: Loss 0.0005018733791075647\n",
      "Iteration 3300: Loss 0.00040014355909079313\n",
      "Iteration 3400: Loss 0.0003934487758670002\n",
      "Iteration 3500: Loss 0.000388490705518052\n",
      "Iteration 3600: Loss 0.0004371381946839392\n",
      "Iteration 3700: Loss 0.00038565893191844225\n",
      "Iteration 3800: Loss 0.00038031733129173517\n",
      "Iteration 3900: Loss 0.00037586077814921737\n",
      "Iteration 4000: Loss 0.0004228603793308139\n",
      "Iteration 4100: Loss 0.00037181348307058215\n",
      "Iteration 4200: Loss 0.0003670481964945793\n",
      "Iteration 4300: Loss 0.0003628249396570027\n",
      "Iteration 4400: Loss 0.00036919646663591266\n",
      "Iteration 4500: Loss 0.0003569135151337832\n",
      "Iteration 4600: Loss 0.00035247128107585013\n",
      "Iteration 4700: Loss 0.002639839891344309\n",
      "Iteration 4800: Loss 0.00034679786767810583\n",
      "Iteration 4900: Loss 0.0003415321698412299\n",
      "Iteration 5000: Loss 0.0003370216873008758\n",
      "Iteration 5100: Loss 0.0003325447905808687\n",
      "Iteration 5200: Loss 0.00033846337464638054\n",
      "Iteration 5300: Loss 0.00032398360781371593\n",
      "Iteration 5400: Loss 0.00031906674848869443\n",
      "Iteration 5500: Loss 0.00031915365252643824\n",
      "Iteration 5600: Loss 0.00030989028164185584\n",
      "Iteration 5700: Loss 0.0003037872666027397\n",
      "Iteration 5800: Loss 0.0002984355087392032\n",
      "Iteration 5900: Loss 0.0006596753955818713\n",
      "Iteration 6000: Loss 0.00028665235731750727\n",
      "Iteration 6100: Loss 0.00028073086286894977\n",
      "Iteration 6200: Loss 0.0003800250997301191\n",
      "Iteration 6300: Loss 0.00026783085195347667\n",
      "Iteration 6400: Loss 0.00026080466341227293\n",
      "Iteration 6500: Loss 0.0002543220471125096\n",
      "Iteration 6600: Loss 0.0002579100546427071\n",
      "Iteration 6700: Loss 0.00023880226945038885\n",
      "Iteration 6800: Loss 0.00023175741080194712\n",
      "Iteration 6900: Loss 0.00030220550252124667\n",
      "Iteration 7000: Loss 0.0002149320935131982\n",
      "Iteration 7100: Loss 0.0002073079376714304\n",
      "Iteration 7200: Loss 0.0002714443835429847\n",
      "Iteration 7300: Loss 0.00018911216466221958\n",
      "Iteration 7400: Loss 0.00018111358804162592\n",
      "Iteration 7500: Loss 0.008819504640996456\n",
      "Iteration 7600: Loss 0.000162796801305376\n",
      "Iteration 7700: Loss 0.00015460920985788107\n",
      "Iteration 7800: Loss 0.00016062334179878235\n",
      "Iteration 7900: Loss 0.0001381241308990866\n",
      "Iteration 8000: Loss 0.00012931293167639524\n",
      "Iteration 8100: Loss 0.00012334239727351815\n",
      "Iteration 8200: Loss 0.0001147830334957689\n",
      "Iteration 8300: Loss 0.00010678119724616408\n",
      "Iteration 8400: Loss 0.0008107147878035903\n",
      "Iteration 8500: Loss 9.376691014040262e-05\n",
      "Iteration 8600: Loss 8.807498670648783e-05\n",
      "Iteration 8700: Loss 0.0013905972009524703\n",
      "Iteration 8800: Loss 7.794901466695592e-05\n",
      "Iteration 8900: Loss 7.341901073232293e-05\n",
      "Iteration 9000: Loss 0.00018936721608042717\n",
      "Iteration 9100: Loss 6.593717262148857e-05\n",
      "Iteration 9200: Loss 6.249424041016027e-05\n",
      "Iteration 9300: Loss 6.060831219656393e-05\n",
      "Iteration 9400: Loss 5.693615094060078e-05\n",
      "Iteration 9500: Loss 0.000529023353010416\n",
      "Iteration 9600: Loss 5.341898213373497e-05\n",
      "Iteration 9700: Loss 5.072780913906172e-05\n",
      "Iteration 9800: Loss 0.0005417454522103071\n",
      "Iteration 9900: Loss 4.7491797886323184e-05\n",
      "Training time: 7.353126287460327 seconds\n"
     ]
    }
   ],
   "source": [
    "# Initialize a list to store the loss values\n",
    "loss_values = []\n",
    "\n",
    "# Start the timer\n",
    "start_time = time.time()\n",
    "\n",
    "# Training the neural network\n",
    "for i in range(10_001):\n",
    "    prediction = neural_net(input_data)     # input x and predict based on x\n",
    "    loss = loss_func(prediction, y)     # must be (1. nn output, 2. target)\n",
    "    \n",
    "    # Append the current loss value to the list\n",
    "    loss_values.append(loss.item())\n",
    "    \n",
    "    if i % 100 == 0:  # print every 100 iterations\n",
    "        print(f\"Iteration {i}: Loss {loss.item()}\")\n",
    "    \n",
    "    optimizer.zero_grad()   # clear gradients for next train\n",
    "    loss.backward()         # backpropagation, compute gradients\n",
    "    optimizer.step()\n",
    "\n",
    "# Stop the timer and calculate the elapsed time\n",
    "end_time = time.time()\n",
    "elapsed_time = end_time - start_time\n",
    "print(f\"Training time: {elapsed_time} seconds\")\n",
    "\n",
    "    \n",
    "# Save a summary of the training process to a text file\n",
    "with open(\"summaries/1_Simple_Function_Aproximation.txt\", \"w\") as file:\n",
    "    file.write(\"Summary of Neural Network Training\\n\")\n",
    "    file.write(\"=================================\\n\\n\")\n",
    "    file.write(f\"Neural Network Architecture:\\n{neural_net}\\n\\n\")\n",
    "    file.write(f\"Optimizer Used:\\n{type(optimizer).__name__}\\n\\n\")\n",
    "    file.write(f\"Learning Rate:\\n{optimizer.param_groups[0]['lr']}\\n\\n\")\n",
    "    file.write(f\"Number of Iterations:\\n{len(loss_values)}\\n\\n\")\n",
    "    file.write(f\"Initial Loss:\\n{loss_values[0]}\\n\\n\")\n",
    "    file.write(f\"Final Loss:\\n{loss_values[-1]}\\n\\n\")\n",
    "    file.write(f\"Training Time:\\n{elapsed_time} seconds\\n\\n\")\n",
    "    \n",
    "    # Calculate the average loss\n",
    "    average_loss = sum(loss_values) / len(loss_values)\n",
    "    file.write(f\"Average Loss:\\n{average_loss}\\n\\n\")\n",
    "    \n",
    "    # Find the iteration with the minimum loss\n",
    "    min_loss_value = min(loss_values)\n",
    "    min_loss_iteration = loss_values.index(min_loss_value)\n",
    "    file.write(f\"Minimum Loss:\\n{min_loss_value} at iteration {min_loss_iteration}\\n\\n\")    "
   ]
  },
  {
   "cell_type": "markdown",
   "metadata": {},
   "source": [
    "In the following code block, we plot the loss values recorded during the training process. This plot helps us visualize how the loss decreases over time, indicating that our neural network is learning to approximate the wave function more accurately with each iteration."
   ]
  },
  {
   "cell_type": "code",
   "execution_count": 24,
   "metadata": {},
   "outputs": [
    {
     "data": {
      "image/png": "[encoded data removed]",
      "text/plain": [
       "<Figure size 250x220 with 1 Axes>"
      ]
     },
     "metadata": {},
     "output_type": "display_data"
    }
   ],
   "source": [
    "# Create a figure for the plot\n",
    "fig = plt.figure(figsize=(2.5, 2.2))\n",
    "\n",
    "# Plot the loss values recorded during training\n",
    "plt.plot(loss_values, color='gray', linewidth=2)\n",
    "\n",
    "# Set the labels for the x and y axes\n",
    "plt.xlabel('Iteration')\n",
    "plt.ylabel('Loss')\n",
    "\n",
    "# Set the title for the plot\n",
    "plt.title('Training Progress')\n",
    "\n",
    "# Display the grid\n",
    "plt.grid(True)\n",
    "\n",
    "# Save the plot as a PDF file in the 'imgs' directory\n",
    "fig.savefig('imgs/1_Training_Progress_Simple_Function_Aproximation.png', format='png')\n",
    "\n",
    "# Display the plot\n",
    "plt.show()"
   ]
  },
  {
   "cell_type": "markdown",
   "metadata": {},
   "source": [
    "In the following code block, we save the trained model's parameters to a file. We then initialize a new instance of the neural network and load the saved parameters into this new instance. This allows us to reuse the trained model without having to retrain it."
   ]
  },
  {
   "cell_type": "code",
   "execution_count": 25,
   "metadata": {},
   "outputs": [
    {
     "data": {
      "text/plain": [
       "NeuralNetwork(\n",
       "  (layer1): Linear(in_features=1, out_features=10, bias=True)\n",
       "  (layer2): Linear(in_features=10, out_features=10, bias=True)\n",
       "  (output_layer): Linear(in_features=10, out_features=1, bias=True)\n",
       ")"
      ]
     },
     "execution_count": 25,
     "metadata": {},
     "output_type": "execute_result"
    }
   ],
   "source": [
    "# Save the trained model's parameters to a file\n",
    "torch.save(neural_net.state_dict(), 'models/1_Simple_Function_Aproximation.pth')\n",
    "\n",
    "# Initialize a new instance of the neural network\n",
    "new_neural_net = NeuralNetwork()\n",
    "\n",
    "# Load the saved parameters into the new instance of the neural network\n",
    "new_neural_net.load_state_dict(torch.load('models/1_Simple_Function_Aproximation.pth'))\n",
    "\n",
    "# Ensure the new neural network is in evaluation mode\n",
    "new_neural_net.eval()"
   ]
  },
  {
   "cell_type": "markdown",
   "metadata": {},
   "source": [
    "In the following code block, we use the trained neural network to generate predictions for $y$ (`ypred`) based on the input data. We then plot these predicted $y$s  values and the difference between the predicted and actual `y` values. This allows us to visually assess the performance of our neural network."
   ]
  },
  {
   "cell_type": "code",
   "execution_count": 26,
   "metadata": {},
   "outputs": [
    {
     "data": {
      "image/png": "[encoded data removed]",
      "text/plain": [
       "<Figure size 900x200 with 3 Axes>"
      ]
     },
     "metadata": {},
     "output_type": "display_data"
    }
   ],
   "source": [
    "def plot_predictions(input_data, y_true, y_pred):\n",
    "    # Convert tensors to numpy arrays for plotting\n",
    "    x_np = input_data.detach().numpy()\n",
    "    y_np = y_true.detach().numpy()\n",
    "    ypred_np = y_pred.detach().numpy()\n",
    "\n",
    "    # Create a figure with two subplots\n",
    "    fig, axs = plt.subplots(1, 3, figsize=(9, 2))\n",
    "    \n",
    "    # Plot the actual y values\n",
    "    axs[0].plot(x_np, y_np, color='gray', linewidth=2)\n",
    "    axs[0].set_title('Analytical')\n",
    "    axs[0].set_xlabel('$x$')\n",
    "    axs[0].set_ylabel('$y$')    \n",
    "\n",
    "    # Plot the predicted y values\n",
    "    axs[1].plot(x_np, ypred_np, color='gray', linewidth=2)\n",
    "    axs[1].set_title('Predicted')\n",
    "    axs[1].set_xlabel('$x$')\n",
    "    axs[1].set_ylabel('$y_{pred}$')\n",
    "\n",
    "    # Plot the difference between the predicted and actual y values\n",
    "    difference = y_np - ypred_np\n",
    "    axs[2].plot(x_np, difference, color='gray', linewidth=2)\n",
    "    axs[2].set_title('Difference')\n",
    "    axs[2].set_xlabel('$x$')\n",
    "    axs[2].set_ylabel('$y - y_{pred}$')\n",
    "\n",
    "    # Save the plot as a PNG file in the 'imgs' directory\n",
    "    fig.savefig(f'imgs/1_Predicted_and_Difference_Simple_Function_Aproximation.png', format='png')\n",
    "\n",
    "    # Display the plot\n",
    "    plt.show()\n",
    "    \n",
    "# Generate predictions using the neural network\n",
    "ypred = neural_net(input_data)\n",
    "\n",
    "# Plot the predictions and the difference\n",
    "plot_predictions(input_data, y, ypred)    "
   ]
  }
 ],
 "metadata": {
  "kernelspec": {
   "display_name": "pinn",
   "language": "python",
   "name": "python3"
  },
  "language_info": {
   "codemirror_mode": {
    "name": "ipython",
    "version": 3
   },
   "file_extension": ".py",
   "mimetype": "text/x-python",
   "name": "python",
   "nbconvert_exporter": "python",
   "pygments_lexer": "ipython3",
   "version": "3.12.2"
  }
 },
 "nbformat": 4,
 "nbformat_minor": 2
}
