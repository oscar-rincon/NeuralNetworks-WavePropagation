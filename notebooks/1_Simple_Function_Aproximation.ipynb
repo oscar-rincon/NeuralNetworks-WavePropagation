{
 "cells": [
  {
   "cell_type": "markdown",
   "metadata": {},
   "source": [
    "# Simple Function Aproximation with PyTorch"
   ]
  },
  {
   "cell_type": "code",
   "execution_count": 1,
   "metadata": {},
   "outputs": [],
   "source": [
    "# Import NumPy for numerical operations\n",
    "import numpy as np\n",
    "\n",
    "# Import PyTorch for building and training neural networks\n",
    "import torch\n",
    "import torch.nn as nn\n",
    "import torch.optim as optim\n",
    "\n",
    "# Import Matplotlib for plotting\n",
    "import matplotlib.pyplot as plt\n",
    "\n",
    "# Import a utility module for additional plotting functions\n",
    "import utils_plots\n",
    "\n",
    "# Import the time module to time our training process\n",
    "import time"
   ]
  },
  {
   "cell_type": "code",
   "execution_count": 17,
   "metadata": {},
   "outputs": [
    {
     "data": {
      "image/png": "[encoded data removed]",
      "text/plain": [
       "<Figure size 320x220 with 1 Axes>"
      ]
     },
     "metadata": {},
     "output_type": "display_data"
    }
   ],
   "source": [
    "# Generate training data in NumPy\n",
    "x_np = np.linspace(0, 20, 100)  # x data (numpy array), shape=(100,)\n",
    "y_np = np.sin(x_np)  # y data (numpy array), shape=(100,)\n",
    "\n",
    "# Create a figure for the plot\n",
    "fig = plt.figure(figsize=(3.2, 2.2))\n",
    "plt.plot(x_np,y_np, color='gray', linewidth=2)\n",
    "\n",
    "# Set the labels for the x and y axes\n",
    "plt.xlabel('$x$')\n",
    "plt.ylabel('$y$')\n",
    "\n",
    "# Display the grid\n",
    "plt.grid(True)\n",
    "\n",
    "# Set the title for the plot\n",
    "plt.title(r'$y=\\sin(x)$')\n",
    "\n",
    "# Save the plot as a PDF file in the 'imgs' directory\n",
    "fig.savefig('imgs/sine_function.pdf', format='pdf')\n",
    "\n",
    "# Display the plot\n",
    "plt.show()"
   ]
  },
  {
   "cell_type": "code",
   "execution_count": null,
   "metadata": {},
   "outputs": [],
   "source": [
    "# Define a function for the analytical solution of the 1D wave equation\n",
    "def analytic_sol_func(t, x):\n",
    "    C = 1\n",
    "    return sum([(8 / (k**3 * np.pi**3)) * np.sin(k * np.pi * x) * np.cos(C * k * np.pi * t) for k in range(1, 100, 2)])\n",
    "\n",
    "# Generate training data in NumPy\n",
    "x_np = np.linspace(0, 1, 100)  # x data (numpy array), shape=(100,)\n",
    "t_np = np.linspace(0, 1, 100)  # t data (numpy array), shape=(100,)\n",
    "\n",
    "# Create a grid of x and t values\n",
    "x_grid, t_grid = np.meshgrid(x_np, t_np) # x and t data (numpy array), shape=(100, 100)\n",
    "\n",
    "# Calculate u values using the analytical solution function\n",
    "u_grid = analytic_sol_func(t_grid,x_grid) # u data (numpy array), shape=(100, 100)\n",
    "\n",
    "# Create a figure for the plot\n",
    "fig = plt.figure(figsize=(3.2, 2.2))\n",
    "\n",
    "# Plot the u values as a function of t and x\n",
    "plt.contourf(t_grid,x_grid,u_grid, origin='lower', extent=(0, 1, 0, 1), levels=20,cmap=utils_plots.cmap_)\n",
    "plt.colorbar(label='$u$')\n",
    "plt.contour(t_grid, x_grid, u_grid, levels=20, colors='white', alpha=0.2, linestyles='solid')\n",
    "plt.xlabel('$x$')\n",
    "plt.ylabel('$t$')\n",
    "plt.title('Analytical solution of the 1D wave equation')\n",
    "\n",
    "# Save the plot as a PDF file in the 'imgs' directory\n",
    "fig.savefig('imgs/1D_Wave_Equation_Analytical_Solution.pdf', format='pdf')\n",
    "\n",
    "# Display the plot\n",
    "plt.show()"
   ]
  }
 ],
 "metadata": {
  "kernelspec": {
   "display_name": "pinn",
   "language": "python",
   "name": "python3"
  },
  "language_info": {
   "codemirror_mode": {
    "name": "ipython",
    "version": 3
   },
   "file_extension": ".py",
   "mimetype": "text/x-python",
   "name": "python",
   "nbconvert_exporter": "python",
   "pygments_lexer": "ipython3",
   "version": "3.12.2"
  }
 },
 "nbformat": 4,
 "nbformat_minor": 2
}
