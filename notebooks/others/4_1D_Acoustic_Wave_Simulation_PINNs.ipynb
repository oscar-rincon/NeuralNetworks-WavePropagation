{
 "cells": [
  {
   "cell_type": "markdown",
   "metadata": {},
   "source": [
    "# PINNs-Based 1D Acoustic Wave Simulation with a Source Term\n",
    "\n",
    "This notebook presents the numerical solution for the 1D elastic wave equation\n",
    "\n",
    "The acoustic wave equation in 1D with constant density \n",
    "\n",
    "$$\n",
    "\\partial^2_t u(x,t) \\ = \\ c^2 \\partial_x^2 u(x,t) + s(x,t)\n",
    "$$\n",
    "\n",
    "with pressure $p$, acoustic velocity $c$, and source term $s$.\n",
    "\n",
    "In the following code block, we import the necessary libraries for our notebook. This includes NumPy for numerical operations, PyTorch for building and training the neural network, Matplotlib for plotting, a utility module for additional plotting functions, and the time module for timing our training process."
   ]
  },
  {
   "cell_type": "code",
   "execution_count": 3,
   "metadata": {},
   "outputs": [],
   "source": [
    "# Import NumPy for numerical operations\n",
    "import numpy as np\n",
    "\n",
    "# Import PyTorch for building and training neural networks\n",
    "import torch\n",
    "import torch.nn as nn\n",
    "import torch.optim as optim\n",
    "\n",
    "# Import Matplotlib for plotting\n",
    "import matplotlib.pyplot as plt\n",
    "\n",
    "# Import a utility module for additional plotting functions\n",
    "import utils_plots\n",
    "\n",
    "# Import the time module to time our training process\n",
    "import time\n",
    "\n",
    "# Import pickle for save and load the variables\n",
    "import pickle\n",
    "\n",
    "# Ignore Warning Messages\n",
    "import warnings\n",
    "warnings.filterwarnings(\"ignore\")"
   ]
  },
  {
   "cell_type": "markdown",
   "metadata": {},
   "source": [
    "In the following code block, we load the data obteined from a spectral elements implemented in the notebook W9_se_homo_1d_solution.ipynb with modified input parameters of the course [computers, waves, simulations](https://www.coursera.org/learn/computers-waves-simulations)."
   ]
  },
  {
   "cell_type": "markdown",
   "metadata": {},
   "source": [
    "In this simulation, we utilize a Gaussian function as the source term, which is typically characterized by its bell-shaped curve and defined by the following formula:\n",
    "\n",
    "$$\n",
    "s(x,t) = \\text{{factor}} \\cdot (t - t0) \\cdot \\exp(-a \\cdot (t - t0)^2)\n",
    "$$\n"
   ]
  },
  {
   "cell_type": "code",
   "execution_count": 310,
   "metadata": {},
   "outputs": [],
   "source": [
    "def calculate_normalized_src(t, factor=10e-3, f0=2.):\n",
    "    # Calculate the source time shift\n",
    "    t0 = 1.0 / f0\n",
    "\n",
    "    # Calculate the src function\n",
    "    src = factor * 2 * (4 * f0) * np.exp(-1.0 * (4 * f0) ** 2 * (t - t0) ** 2)\n",
    "\n",
    "    # Normalize the src function\n",
    "    src_normalized =  src / np.max(src)\n",
    "\n",
    "    return src_normalized#np.sin(np.pi*t)#\n",
    "\n",
    "# Usage:\n",
    "nx=100\n",
    "nt=100\n",
    "t_max = 5\n",
    "x_max = 4\n",
    "t = np.linspace(0, t_max, nt)  # time array\n",
    "src_normalized = calculate_normalized_src(t)\n",
    "\n"
   ]
  },
  {
   "cell_type": "code",
   "execution_count": 311,
   "metadata": {},
   "outputs": [
    {
     "data": {
      "image/png": "[encoded data removed]",
      "text/plain": [
       "<Figure size 250x180 with 1 Axes>"
      ]
     },
     "metadata": {},
     "output_type": "display_data"
    }
   ],
   "source": [
    "# Create a figure for the plot\n",
    "fig, ax = plt.subplots(figsize=(2.5, 1.8))\n",
    "\n",
    "# Plot the function\n",
    "ax.plot(t,src_normalized, color='gray', linewidth=2)\n",
    "\n",
    "# Set the labels for the x and y axes\n",
    "ax.set_xlabel('$t$')\n",
    "ax.set_ylabel('$p$')\n",
    "\n",
    "# Display the grid\n",
    "ax.grid(True)\n",
    "\n",
    "# Display the plot\n",
    "plt.show()"
   ]
  },
  {
   "cell_type": "code",
   "execution_count": 330,
   "metadata": {},
   "outputs": [],
   "source": [
    "# Usage:\n",
    "t = np.linspace(0, t_max, nt)  # time array\n",
    "src_normalized = calculate_normalized_src(t_grid)\n",
    "# Generate training data in NumPy\n",
    "x_np = np.linspace(0, x_max, nx)  # x data (numpy array), shape=(100,)\n",
    "t_np = np.linspace(0, t_max, nt)  # t data (numpy array), shape=(100,)\n",
    "\n",
    "# Create a grid of x and t values\n",
    "x_grid, t_grid = np.meshgrid(x_np, t_np) # x and t data (numpy array), shape=(100, 100)\n",
    "\n",
    "# Initialize u_grid with zeros\n",
    "u_source_grid = np.zeros_like(x_grid)\n",
    "\n",
    "# Find the index where x_np is approximately 0.5\n",
    "index = np.argmin(np.abs(x_np - 2.0))\n",
    "\n",
    "# Set the values of u_grid at this index to the corresponding values of src_normalized\n",
    "#src_normalized = calculate_normalized_src(t_grid)\n",
    "\n",
    "#u_source_grid[:,index]=src_normalized\n",
    "u_source_grid[:,index] = calculate_normalized_src(t)#u_source_grid.T"
   ]
  },
  {
   "cell_type": "code",
   "execution_count": 331,
   "metadata": {},
   "outputs": [
    {
     "data": {
      "image/png": "[encoded data removed]",
      "text/plain": [
       "<Figure size 320x220 with 2 Axes>"
      ]
     },
     "metadata": {},
     "output_type": "display_data"
    }
   ],
   "source": [
    "# Create a figure for the plot\n",
    "fig = plt.figure(figsize=(3.2, 2.2))\n",
    "\n",
    "# Plot the u values as a function of t and x[x_grid, t_grid,] u_source_grid\n",
    "plt.contourf(x_grid,t_grid,u_source_grid, origin='lower', levels=20,cmap=utils_plots.cmap_)\n",
    "plt.colorbar(label='$u$')\n",
    "#plt.contour(t_grid, x_grid, u_grid, levels=20, colors='white', alpha=0.2, linestyles='solid')\n",
    "plt.xlabel('$x$')\n",
    "plt.ylabel('$t$')\n",
    "plt.title('$f(x,t)$')\n",
    "\n",
    "# Display the plot\n",
    "plt.show()"
   ]
  },
  {
   "cell_type": "code",
   "execution_count": 332,
   "metadata": {},
   "outputs": [],
   "source": [
    "u_source_tensor = torch.from_numpy(u_source_grid).float().unsqueeze(-1).requires_grad_(True)"
   ]
  },
  {
   "cell_type": "code",
   "execution_count": 333,
   "metadata": {},
   "outputs": [],
   "source": [
    "# Generate training data in NumPy\n",
    "x_np = np.linspace(0, x_max, nx)  # x data (numpy array), shape=(100,)\n",
    "t_np = np.linspace(0, t_max, nt)  # t data (numpy array), shape=(100,)\n",
    "\n",
    "# Create a grid of x and t values\n",
    "x_grid, t_grid = np.meshgrid(x_np, t_np) # x and t data (numpy array), shape=(100, 100)\n",
    "\n",
    "\n",
    "# Convert x_grid, t_grid, and u_grid to PyTorch tensors\n",
    "# The unsqueeze operation adds an extra dimension to the tensors\n",
    "# The requires_grad_ method tells PyTorch that it will need to compute gradients with respect to these tensors\n",
    "x_tensor = torch.from_numpy(x_grid).float().unsqueeze(-1).requires_grad_(True)\n",
    "t_tensor = torch.from_numpy(t_grid).float().unsqueeze(-1).requires_grad_(True)\n",
    "input_data = torch.cat((x_tensor, t_tensor), dim=-1)\n",
    "#source_tensor = torch.from_numpy(src_normalized).float().unsqueeze(-1).requires_grad_(True)\n",
    "#u_tensor = torch.from_numpy(u_grid).float().unsqueeze(-1)\n",
    "\n",
    "# Combine x and t tensors to form the input data for the neural network\n",
    "# The cat operation concatenates the tensors along the last dimension\n",
    "input_data = torch.cat((x_tensor, t_tensor), dim=-1)\n",
    "\n",
    "# Define the x and t boundaries of the problem domain\n",
    "x_boundary = torch.linspace(0, np.max(x_grid), nx).view(-1, 1).requires_grad_(True)\n",
    "t_boundary = torch.linspace(0, np.max(t_grid), nt).view(-1, 1).requires_grad_(True)\n",
    "\n",
    "# Define the left and right boundaries\n",
    "# For the left boundary, x is zero and t varies from 0 to max(t_grid)\n",
    "# For the right boundary, x is max(x_grid) and t varies from 0 to max(t_grid)\n",
    "x_left_boundary = torch.zeros_like(t_boundary)\n",
    "t_left_boundary = t_boundary\n",
    "x_right_boundary = np.max(x_grid) * torch.ones_like(t_boundary)\n",
    "t_right_boundary = t_boundary\n",
    "\n",
    "# Define the bottom and top boundaries\n",
    "# For the bottom boundary, t is zero and x varies from 0 to max(x_grid)\n",
    "# For the top boundary, t is max(t_grid) and x varies from 0 to max(x_grid)\n",
    "x_bottom_boundary = x_boundary\n",
    "t_bottom_boundary = torch.zeros_like(x_boundary)\n",
    "x_top_boundary = x_boundary\n",
    "t_top_boundary = np.max(t_grid) * torch.ones_like(x_boundary)\n",
    "\n",
    "\n",
    "#x_center_boundary =  np.max(x_grid)/2 * torch.ones_like(t_boundary)\n",
    "#t_center_boundary = t_boundary\n",
    "\n",
    "\n",
    "# Combine the boundary tensors to form the input data for the boundary conditions\n",
    "input_left_boundary = torch.cat((x_left_boundary, t_left_boundary), dim=-1)\n",
    "input_bottom_boundary = torch.cat((x_bottom_boundary, t_bottom_boundary), dim=-1)\n",
    "input_right_boundary = torch.cat((x_right_boundary, t_right_boundary), dim=-1)\n",
    "input_top_boundary = torch.cat((x_top_boundary, t_top_boundary), dim=-1)\n",
    "#input_center_boundary = torch.cat((x_center_boundary, t_center_boundary), dim=-1)"
   ]
  },
  {
   "cell_type": "code",
   "execution_count": 339,
   "metadata": {},
   "outputs": [],
   "source": [
    "# Define a neural network class with three fully connected layers\n",
    "class NeuralNetwork(nn.Module):\n",
    "    def __init__(self):\n",
    "        super(NeuralNetwork, self).__init__()\n",
    "        self.layer1 = nn.Linear(2, 10)\n",
    "        self.layer2 = nn.Linear(10, 10)\n",
    "        self.output_layer = nn.Linear(10, 1)\n",
    "\n",
    "    def forward(self, x):\n",
    "        x = torch.tanh(self.layer1(x))\n",
    "        x = torch.tanh(self.layer2(x))\n",
    "        x = self.output_layer(x)\n",
    "        return x\n",
    "    \n",
    "# Create an instance of the neural network\n",
    "neural_net = NeuralNetwork()\n",
    "\n",
    "# Define an optimizer (Adam) for training the network\n",
    "optimizer = optim.Adam(neural_net.parameters(), lr=0.01)\n",
    "\n",
    "# Define a loss function (Mean Squared Error) for training the network\n",
    "loss_func = nn.MSELoss()"
   ]
  },
  {
   "cell_type": "code",
   "execution_count": 340,
   "metadata": {},
   "outputs": [
    {
     "name": "stdout",
     "output_type": "stream",
     "text": [
      "Iteration 0: Loss 0.37056630849838257\n",
      "Iteration 100: Loss 0.0003459826693870127\n",
      "Iteration 200: Loss 0.000325935980072245\n",
      "Iteration 300: Loss 0.000320548570016399\n",
      "Iteration 400: Loss 0.0003178848419338465\n",
      "Iteration 500: Loss 0.00031619181390851736\n",
      "Iteration 600: Loss 0.000314947945298627\n",
      "Iteration 700: Loss 0.00031395748374052346\n",
      "Iteration 800: Loss 0.0003131376870442182\n",
      "Iteration 900: Loss 0.00031244714045897126\n",
      "Iteration 1000: Loss 0.0003118613385595381\n",
      "Training time: 14.759329557418823 seconds\n"
     ]
    }
   ],
   "source": [
    "# Initialize a list to store the loss values\n",
    "loss_values = []\n",
    "c = 4 # wave speed\n",
    "\n",
    "# Start the timer\n",
    "start_time = time.time()\n",
    "\n",
    "# Training the neural network\n",
    "for i in range(1001):\n",
    "    # Predictions for boundary conditions\n",
    "    prediction_boundary_left = neural_net(input_left_boundary)\n",
    "    prediction_boundary_bottom = neural_net(input_bottom_boundary)\n",
    "    prediction_boundary_right = neural_net(input_right_boundary)\n",
    "    prediction_boundary_top = neural_net(input_top_boundary)\n",
    "\n",
    "    # Compute boundary conditions\n",
    "    boundary_left = prediction_boundary_left - 0\n",
    "    boundary_bottom = prediction_boundary_bottom - 0\n",
    "    boundary_right = prediction_boundary_right - 0\n",
    "    boundary_top = prediction_boundary_top - 0\n",
    "\n",
    "    # Compute loss for boundary conditions\n",
    "    loss_boundary_left = torch.mean(boundary_left**2)\n",
    "    loss_boundary_bottom = torch.mean(boundary_bottom**2)\n",
    "    loss_boundary_right = torch.mean(boundary_right**2)\n",
    "    loss_boundary_top = torch.mean(boundary_top**2)\n",
    "    \n",
    "    loss_boundary = loss_boundary_left + loss_boundary_right + loss_boundary_top + loss_boundary_bottom\n",
    "   \n",
    "    # Predictions for physics conditions\n",
    "    prediction = neural_net(input_data)\n",
    "\n",
    "    # Compute derivatives of prediction with respect to x_tensor and t_tensor\n",
    "    dudx  = torch.autograd.grad(prediction, x_tensor, torch.ones_like(prediction), create_graph=True)[0] # computes du/dx\n",
    "    dudx2 = torch.autograd.grad(dudx,  x_tensor, torch.ones_like(dudx),  create_graph=True)[0] # computes d^2u/dx^2\n",
    "    dudt  = torch.autograd.grad(prediction, t_tensor, torch.ones_like(prediction), create_graph=True)[0] # computes du/dt\n",
    "    dudt2 = torch.autograd.grad(dudt,  t_tensor, torch.ones_like(dudt),  create_graph=True)[0] # computes d^2u/dt^2\n",
    "\n",
    "    # Compute physics condition\n",
    "    physics =  dudt2 - c**2*dudx2 - u_source_tensor \n",
    "\n",
    "    # Compute loss for physics condition\n",
    "    loss_physics = torch.mean(physics**2)\n",
    "    data_loss = torch.mean((prediction-u_source_tensor)**2)\n",
    "    # Total loss is the sum of boundary and physics loss\n",
    "    loss =  loss_physics + loss_boundary\n",
    "\n",
    "    # Append the current loss value to the list\n",
    "    loss_values.append(loss.item())\n",
    "\n",
    "    # Clear gradients for next train\n",
    "    optimizer.zero_grad()\n",
    "\n",
    "    # Backpropagation, compute gradients\n",
    "    loss.backward()\n",
    "\n",
    "    # Update weights\n",
    "    optimizer.step()\n",
    "\n",
    "    # Print loss every 100 iterations\n",
    "    if i % 100 == 0:\n",
    "        print(f\"Iteration {i}: Loss {loss.item()}\")\n",
    "\n",
    "# Stop the timer and calculate the elapsed time\n",
    "end_time = time.time()\n",
    "elapsed_time = end_time - start_time\n",
    "\n",
    "# Print training time\n",
    "print(f\"Training time: {elapsed_time} seconds\")\n",
    "\n",
    "# Save a summary of the training process to a text file\n",
    "with open(\"summaries/4_1D_Acoustic_Wave_Simulation_PINNs.txt\", \"w\") as file:\n",
    "    file.write(\"Summary of Neural Network Training\\n\")\n",
    "    file.write(\"=================================\\n\\n\")\n",
    "    file.write(f\"Neural Network Architecture:\\n{neural_net}\\n\\n\")\n",
    "    file.write(f\"Optimizer Used:\\n{type(optimizer).__name__}\\n\\n\")\n",
    "    file.write(f\"Learning Rate:\\n{optimizer.param_groups[0]['lr']}\\n\\n\")\n",
    "    file.write(f\"Number of Iterations:\\n{len(loss_values)}\\n\\n\")\n",
    "    file.write(f\"Initial Loss:\\n{loss_values[0]}\\n\\n\")\n",
    "    file.write(f\"Final Loss:\\n{loss_values[-1]}\\n\\n\")\n",
    "    file.write(f\"Training Time:\\n{elapsed_time} seconds\\n\\n\")\n",
    "    \n",
    "    # Calculate the average loss\n",
    "    average_loss = sum(loss_values) / len(loss_values)\n",
    "    file.write(f\"Average Loss:\\n{average_loss}\\n\\n\")\n",
    "    \n",
    "    # Find the iteration with the minimum loss\n",
    "    min_loss_value = min(loss_values)\n",
    "    min_loss_iteration = loss_values.index(min_loss_value)\n",
    "    file.write(f\"Minimum Loss:\\n{min_loss_value} at iteration {min_loss_iteration}\\n\\n\")"
   ]
  },
  {
   "cell_type": "code",
   "execution_count": 341,
   "metadata": {},
   "outputs": [
    {
     "data": {
      "image/png": "[encoded data removed]",
      "text/plain": [
       "<Figure size 350x250 with 1 Axes>"
      ]
     },
     "metadata": {},
     "output_type": "display_data"
    }
   ],
   "source": [
    "# Create a figure for the plot\n",
    "fig = plt.figure(figsize=(3.5, 2.5))\n",
    "\n",
    "# Plot the loss values recorded during training\n",
    "plt.plot(loss_values, color='gray', linewidth=2)\n",
    "\n",
    "# Set the labels for the x and y axes\n",
    "plt.xlabel('Iteration')\n",
    "plt.ylabel('Loss')\n",
    "\n",
    "# Set the title for the plot\n",
    "plt.title('Training Progress')\n",
    "\n",
    "# Display the grid\n",
    "plt.grid(True)\n",
    "\n",
    "# Save the plot as a PNG file in the 'imgs' directory\n",
    "fig.savefig('imgs/4_1D_Acoustic_Wave_Simulation_PINNs.png', format='png')\n",
    "\n",
    "# Display the plot\n",
    "plt.show()"
   ]
  },
  {
   "cell_type": "code",
   "execution_count": 342,
   "metadata": {},
   "outputs": [
    {
     "data": {
      "text/plain": [
       "NeuralNetwork(\n",
       "  (layer1): Linear(in_features=2, out_features=10, bias=True)\n",
       "  (layer2): Linear(in_features=10, out_features=10, bias=True)\n",
       "  (output_layer): Linear(in_features=10, out_features=1, bias=True)\n",
       ")"
      ]
     },
     "execution_count": 342,
     "metadata": {},
     "output_type": "execute_result"
    }
   ],
   "source": [
    "# Save the trained model's parameters to a file\n",
    "torch.save(neural_net.state_dict(), 'models/4_1D_Acoustic_Wave_Simulation_PINNs.pth')\n",
    "\n",
    "# Initialize a new instance of the neural network\n",
    "new_neural_net = NeuralNetwork()\n",
    "\n",
    "# Load the saved parameters into the new instance of the neural network\n",
    "new_neural_net.load_state_dict(torch.load('models/4_1D_Acoustic_Wave_Simulation_PINNs.pth'))\n",
    "\n",
    "# Ensure the new neural network is in evaluation mode\n",
    "new_neural_net.eval()"
   ]
  },
  {
   "cell_type": "code",
   "execution_count": 343,
   "metadata": {},
   "outputs": [
    {
     "data": {
      "image/png": "[encoded data removed]",
      "text/plain": [
       "<Figure size 320x220 with 2 Axes>"
      ]
     },
     "metadata": {},
     "output_type": "display_data"
    }
   ],
   "source": [
    "# Generate predictions using the neural network and reshape to match grid\n",
    "u_pred = neural_net(input_data).detach().numpy().reshape(x_grid.shape)\n",
    "\n",
    "# Create a figure for the plot\n",
    "fig = plt.figure(figsize=(3.2, 2.2))\n",
    "\n",
    "# Plot the u values as a function of t and x\n",
    "plt.contourf(x_grid,t_grid,u_pred, origin='lower', extent=(0, 1, 0, 1), levels=20,cmap=utils_plots.cmap_)\n",
    "plt.colorbar(label='$u_{pred}$')\n",
    "#plt.contour(t_grid, x_grid, u_grid, levels=20, colors='white', alpha=0.2, linestyles='solid')\n",
    "plt.xlabel('$x$')\n",
    "plt.ylabel('$t$')\n",
    "\n",
    "# Display the plot\n",
    "plt.show()"
   ]
  }
 ],
 "metadata": {
  "kernelspec": {
   "display_name": "pinn",
   "language": "python",
   "name": "python3"
  },
  "language_info": {
   "codemirror_mode": {
    "name": "ipython",
    "version": 3
   },
   "file_extension": ".py",
   "mimetype": "text/x-python",
   "name": "python",
   "nbconvert_exporter": "python",
   "pygments_lexer": "ipython3",
   "version": "3.12.2"
  }
 },
 "nbformat": 4,
 "nbformat_minor": 2
}
