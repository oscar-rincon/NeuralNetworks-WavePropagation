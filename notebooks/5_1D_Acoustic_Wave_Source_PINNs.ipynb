{
 "cells": [
  {
   "cell_type": "markdown",
   "metadata": {},
   "source": [
    "# PINNs-Based 1D Acoustic Wave Simulation with a Source Term\n",
    "\n",
    "This notebook presents a neural network aproximation reinforced with PINNs to the solution for the 1D elastic wave equation\n",
    "\n",
    "\\begin{equation}\n",
    "\\rho(x) \\partial_t^2 u(x,t) = \\partial_x (\\mu(x) \\partial_x u(x,t)) + f(x,t),\n",
    "\\end{equation}\n",
    "\n",
    "\n",
    "In the following code block, we import the necessary libraries for our notebook. This includes NumPy for numerical operations, PyTorch for building and training the neural network, Matplotlib for plotting, a utility module for additional plotting functions, and the time module for timing our training process."
   ]
  },
  {
   "cell_type": "code",
   "execution_count": 66,
   "metadata": {},
   "outputs": [],
   "source": [
    "# Import libraries for numerical operations\n",
    "import numpy as np\n",
    "\n",
    "# Import libraries for random operations and data serialization\n",
    "import random\n",
    "import pickle\n",
    "\n",
    "# Import PyTorch libraries for deep learning\n",
    "import torch\n",
    "import torch.nn as nn\n",
    "import torch.optim as optim\n",
    "\n",
    "# Import libraries for data visualization\n",
    "import matplotlib.pyplot as plt\n",
    "from utils_plots import *  # utility module for additional plotting functions\n",
    "\n",
    "# Import libraries for utility functions\n",
    "import time  # to time our training process\n",
    "from scipy.interpolate import griddata  # for data interpolation\n",
    "\n",
    "# Configure warnings\n",
    "import warnings\n",
    "warnings.filterwarnings(\"ignore\")  # Ignore warning messages"
   ]
  },
  {
   "cell_type": "markdown",
   "metadata": {},
   "source": [
    "In the following code block, we load the data obteined from a spectral elements implemented in the notebook W9_se_homo_1d_solution.ipynb with modified input parameters of the course [computers, waves, simulations](https://www.coursera.org/learn/computers-waves-simulations)."
   ]
  },
  {
   "cell_type": "code",
   "execution_count": 67,
   "metadata": {},
   "outputs": [],
   "source": [
    "# Open the file containing the data\n",
    "with open('data/4_se_data.pkl', 'rb') as f:\n",
    "    # Load the data from the file\n",
    "    # t_grid, x_grid, and u_grid are expected to be in the file\n",
    "    t_grid, x_grid, u_grid = pickle.load(f)\n",
    "\n",
    "# Convert the loaded data to NumPy arrays for easier manipulation\n",
    "# This step is necessary if the loaded data is not already in NumPy array format\n",
    "x_grid = np.array(x_grid)  # Grid of x values\n",
    "t_grid = np.array(t_grid)  # Grid of t (time) values\n",
    "u_grid = np.array(u_grid)  # Grid of u (wave amplitude) values"
   ]
  },
  {
   "cell_type": "markdown",
   "metadata": {},
   "source": [
    "This cell creates a new grid of points and performs interpolation on the u_grid data using the 'nearest' method. It then identifies and replaces any NaN values in the interpolated data with the nearest non-NaN values."
   ]
  },
  {
   "cell_type": "code",
   "execution_count": 68,
   "metadata": {},
   "outputs": [],
   "source": [
    "# Define the number of points for the new grid\n",
    "num_points = 200\n",
    "\n",
    "# Create a new grid of points\n",
    "# The range of the grid is determined by the minimum and maximum values of the original grids\n",
    "x_new = np.linspace(np.nanmin(x_grid), np.nanmax(x_grid), num_points)\n",
    "t_new = np.linspace(np.nanmin(t_grid), np.nanmax(t_grid), num_points)\n",
    "\n",
    "# Create a meshgrid using the new x and t values\n",
    "x_grid_new, t_grid_new = np.meshgrid(x_new, t_new)\n",
    "\n",
    "# Prepare the data for interpolation\n",
    "# The original x and t grids are flattened and stacked vertically\n",
    "# The u_grid is also flattened to match the shape\n",
    "points = np.vstack((x_grid.flatten(), t_grid.flatten())).T\n",
    "values = u_grid.flatten()\n",
    "\n",
    "# Perform the interpolation using the 'nearest' method\n",
    "u_grid_new = griddata(points, values, (x_grid_new, t_grid_new), method='linear')\n",
    "\n",
    "# Identify the NaN values in the interpolated data\n",
    "mask = np.isnan(u_grid_new)\n",
    "\n",
    "# Replace the NaN values with the nearest non-NaN values\n",
    "u_grid_new[mask] = np.interp(np.flatnonzero(mask), np.flatnonzero(~mask), u_grid_new[~mask])\n",
    "\n",
    "# Update the original grids with the new grids\n",
    "x_grid = x_grid_new\n",
    "t_grid = t_grid_new\n",
    "u_grid = u_grid_new"
   ]
  },
  {
   "cell_type": "markdown",
   "metadata": {},
   "source": [
    "This following defines physical and source parameters for the simulated acoustic wave, creates a grid for the source amplitude, sets the source amplitude at the center of the grid for all time using the defined source function, and then plots a contour graph of the source amplitude over the grid."
   ]
  },
  {
   "cell_type": "code",
   "execution_count": 193,
   "metadata": {},
   "outputs": [
    {
     "name": "stdout",
     "output_type": "stream",
     "text": [
      "(200, 200)\n"
     ]
    }
   ],
   "source": [
    "vs = torch.tensor(2500.)  # S velocity [m/s]\n",
    "rho = torch.tensor(2200)#torch.tensor(2200)  # Density [kg/m^3]\n",
    "mu = torch.tensor(rho * vs**2)  # Shear modulus mu\n",
    "\n",
    "# Define source parameters\n",
    "f0 = 25.  # Dominant frequency of the source (Hz)\n",
    "t0 = 0.7 / f0  # Source time shift\n",
    "\n",
    "# Define the source function\n",
    "def src(t):\n",
    "    \"\"\"Calculate the source amplitude at a given time.\"\"\"\n",
    "    return -8. * (t - t0) * f0 * (np.exp(-1.0 * (4*f0) ** 2 * (t - t0) ** 2))\n",
    "\n",
    "# Create a grid for the source amplitude\n",
    "# Dimensions are derived from t_grid and x_grid\n",
    "source_grid = np.zeros((len(t_grid[:,0]), len(x_grid[1])))\n",
    "\n",
    "# Set the source amplitude at x=max(x_grid)/2 for all t\n",
    "# Using the defined source function\n",
    "source_grid[:, int(len(x_grid[1])/2)] = u_grid[:, int(len(x_grid[1])/2)]#src(t_grid[:,1])\n",
    "\n",
    "# Print the shape of the source grid\n",
    "print(np.shape(source_grid))"
   ]
  },
  {
   "cell_type": "markdown",
   "metadata": {},
   "source": [
    "This cell converts the numpy arrays to PyTorch tensors, normalizes these tensors, and then converts them back to numpy arrays for visualization."
   ]
  },
  {
   "cell_type": "code",
   "execution_count": 70,
   "metadata": {},
   "outputs": [],
   "source": [
    "# Convert the numpy arrays to PyTorch tensors\n",
    "# The 'unsqueeze' function is used to add an extra dimension to the tensors\n",
    "x_grid_tensor = torch.from_numpy(x_grid).float().unsqueeze(-1)#.requires_grad_(True)\n",
    "x_grid_tensor_physics = torch.from_numpy(x_grid).float().unsqueeze(-1).requires_grad_(True)\n",
    "t_grid_tensor = torch.from_numpy(t_grid).float().unsqueeze(-1)#.requires_grad_(True)\n",
    "t_grid_tensor_physics = torch.from_numpy(t_grid).float().unsqueeze(-1).requires_grad_(True)\n",
    "u_grid_tensor = torch.from_numpy(u_grid).float().unsqueeze(-1)#.requires_grad_(True)\n",
    "u_grid_tensor_physics = torch.from_numpy(u_grid).float().unsqueeze(-1).requires_grad_(True)\n",
    "source_grid_tensor = torch.from_numpy(source_grid).float().unsqueeze(-1)#.requires_grad_(True)\n",
    "\n",
    "# Normalize the tensors\n",
    "# This is done by subtracting the minimum value and dividing by the range (max - min)\n",
    "x_grid_tensor_normalized = (x_grid_tensor - x_grid_tensor.min()) / (x_grid_tensor.max() - x_grid_tensor.min())#.requires_grad_(True)\n",
    "t_grid_tensor_normalized = (t_grid_tensor - t_grid_tensor.min()) / (t_grid_tensor.max() - t_grid_tensor.min())#.requires_grad_(True)\n",
    "u_grid_tensor_normalized = (u_grid_tensor - u_grid_tensor.min()) / (u_grid_tensor.max() - u_grid_tensor.min())\n",
    "source_grid_tensor_normalized = (source_grid_tensor - source_grid_tensor.min()) / (source_grid_tensor.max() - source_grid_tensor.min())\n",
    "\n",
    "# Convert the normalized tensors back to numpy arrays for visualization\n",
    "# The 'detach' function is used to remove the tensors from the computation graph\n",
    "# The 'reshape' function is used to restore the original shape of the arrays\n",
    "u_grid_normalized = u_grid_tensor_normalized.detach().numpy().reshape(x_grid.shape)\n",
    "x_grid_normalized = x_grid_tensor_normalized.detach().numpy().reshape(x_grid.shape)\n",
    "t_grid_normalized = t_grid_tensor_normalized.detach().numpy().reshape(x_grid.shape)\n",
    "source_grid_normalized = source_grid_tensor_normalized.detach().numpy().reshape(x_grid.shape)"
   ]
  },
  {
   "cell_type": "code",
   "execution_count": 71,
   "metadata": {},
   "outputs": [
    {
     "data": {
      "text/plain": [
       "torch.Size([200, 200, 1])"
      ]
     },
     "execution_count": 71,
     "metadata": {},
     "output_type": "execute_result"
    }
   ],
   "source": [
    "np.shape(x_grid_tensor_physics)"
   ]
  },
  {
   "cell_type": "code",
   "execution_count": 108,
   "metadata": {},
   "outputs": [
    {
     "data": {
      "image/png": "[encoded data removed]",
      "text/plain": [
       "<Figure size 320x200 with 2 Axes>"
      ]
     },
     "metadata": {},
     "output_type": "display_data"
    }
   ],
   "source": [
    "fig, ax = plt.subplots(figsize=(3.2, 2.0))\n",
    "\n",
    "# Plot the contour graph\n",
    "contourf_plot = ax.contourf(x_grid, t_grid, u_grid, origin='lower', extent=(0, 1, 0, 1), levels=30, cmap='plasma')\n",
    "ax.set_xlabel('$x$')\n",
    "ax.set_ylabel('t')\n",
    "fig.colorbar(contourf_plot, ax=ax, label='$u$')\n",
    "\n",
    "# Display the plot\n",
    "plt.show()   "
   ]
  },
  {
   "cell_type": "markdown",
   "metadata": {},
   "source": [
    "This cell defines a neural network with three fully connected layers, creates an instance of this network, and sets up the Adam optimizer and Mean Squared Error loss function for training the network."
   ]
  },
  {
   "cell_type": "code",
   "execution_count": 399,
   "metadata": {},
   "outputs": [],
   "source": [
    "# Define a neural network class with three fully connected layers\n",
    "class NeuralNetwork(nn.Module):\n",
    "    def __init__(self):\n",
    "        super(NeuralNetwork, self).__init__()\n",
    "        # Define the layers\n",
    "        self.layer1 = nn.Linear(2, 20)\n",
    "        self.layer2 = nn.Linear(20, 20)\n",
    "        self.layer3 = nn.Linear(20, 20)\n",
    "        self.output_layer = nn.Linear(20, 1)\n",
    "\n",
    "    def forward(self, x):\n",
    "        # Define the forward pass\n",
    "        x = torch.tanh(self.layer1(x))\n",
    "        x = torch.tanh(self.layer2(x))\n",
    "        x = torch.tanh(self.layer3(x))\n",
    "        x = self.output_layer(x)\n",
    "        return x\n",
    "\n",
    "# Create an instance of the neural network\n",
    "neural_net = NeuralNetwork()\n",
    "\n",
    "# Define the learning rate\n",
    "learning_rate = 0.01\n",
    "\n",
    "# Define an optimizer (Adam) for training the network\n",
    "optimizer = optim.Adam(neural_net.parameters(), lr=learning_rate)\n",
    "\n",
    "# Define a loss function (Mean Squared Error) for training the network\n",
    "loss_func = nn.MSELoss()"
   ]
  },
  {
   "cell_type": "markdown",
   "metadata": {},
   "source": [
    "This cell creates the input data by concatenating normalized `x` and `t` grid tensors, defines the output data, and selects a subset for training. The subset consists of the first third of the `t` coordinate and the entire `x` coordinate, chosen using random indices."
   ]
  },
  {
   "cell_type": "code",
   "execution_count": 400,
   "metadata": {},
   "outputs": [
    {
     "name": "stdout",
     "output_type": "stream",
     "text": [
      "torch.Size([200, 200, 1])\n"
     ]
    }
   ],
   "source": [
    "# Concatenate x and t tensors to form the input data\n",
    "input_data = torch.cat((x_grid_tensor, t_grid_tensor), dim=-1)\n",
    "\n",
    "# Define the output data\n",
    "output_data = u_grid_tensor_normalized\n",
    "\n",
    "# Use only a fraction of the input data as the selected indices for training\n",
    "selected_data = input_data[:int(input_data.shape[0]/3), :][:int(input_data.shape[1]), :]\n",
    "\n",
    "# Use only a fraction of the output data as the selected indices for training\n",
    "output_data_2 = output_data[:int(input_data.shape[0]/3), :][:int(input_data.shape[1]), :]\n",
    "\n",
    "# Define the number of random indices to select\n",
    "num_indices_1 = int(selected_data.shape[0]/1)\n",
    "num_indices_2 = int(selected_data.shape[1]/1)\n",
    "\n",
    "\n",
    "# Select random indices from the first dimension of input_data\n",
    "indices_1 = random.sample(range(selected_data.shape[0]), num_indices_1)\n",
    "\n",
    "# Select random indices from the second dimension of input_data\n",
    "indices_2 = random.sample(range(selected_data.shape[1]), num_indices_2)\n",
    "\n",
    "# Use only the selected indices for training\n",
    "selected_data = selected_data[indices_1, :][:, indices_2]\n",
    "\n",
    "# Select the same indices from output_data\n",
    "output_data_2 = output_data[indices_1, :][:, indices_2]\n",
    "\n",
    "# Print the shape of the input data\n",
    "print(output_data.shape)"
   ]
  },
  {
   "cell_type": "code",
   "execution_count": 401,
   "metadata": {},
   "outputs": [],
   "source": [
    "# # Predict the data using the neural network\n",
    "# prediction_data = neural_net(selected_data)\n",
    "\n",
    "# # Compute the data loss\n",
    "# data_loss_init = loss_func(prediction_data, output_data).detach().numpy()\n",
    "\n",
    "# # Predict the physics loss using the neural network\n",
    "# prediction_physics_loss = neural_net(input_data)\n",
    "\n",
    "# # Normalize the physics loss prediction\n",
    "# prediction_physics_loss = prediction_physics_loss * (torch.max(u_grid_tensor) - torch.min(u_grid_tensor)) + torch.min(u_grid_tensor)\n",
    "\n",
    "# # Compute the first and second derivatives of the prediction with respect to x\n",
    "# dudx = mu * torch.autograd.grad(prediction_physics_loss, x_grid_tensor, torch.ones_like(prediction_physics_loss), create_graph=True)[0]\n",
    "# dudx2 = torch.autograd.grad(dudx, x_grid_tensor, torch.ones_like(dudx), create_graph=True)[0]\n",
    "\n",
    "# # Compute the first and second derivatives of the prediction with respect to t\n",
    "# dudt = torch.autograd.grad(prediction_physics_loss, t_grid_tensor, torch.ones_like(prediction_physics_loss), create_graph=True)[0]\n",
    "# dudt2 = torch.autograd.grad(dudt, t_grid_tensor, torch.ones_like(dudt), create_graph=True)[0]\n",
    "\n",
    "# # Compute the physics condition\n",
    "# physics = rho * dudt2 - dudx2 - source_grid_tensor\n",
    "\n",
    "# # Compute the physics loss\n",
    "# physics_loss_init =torch.mean(physics**2).detach().numpy()\n",
    "# physics_loss_init"
   ]
  },
  {
   "cell_type": "markdown",
   "metadata": {},
   "source": [
    "This cell trains the neural network, tracks the loss over iterations, calculates the training time, and writes a summary of the training process to a text file."
   ]
  },
  {
   "cell_type": "code",
   "execution_count": 402,
   "metadata": {},
   "outputs": [
    {
     "name": "stdout",
     "output_type": "stream",
     "text": [
      "Iteration 0: Loss 0.13965466618537903\n",
      "Iteration 1000: Loss 0.020860066637396812\n",
      "Iteration 2000: Loss 0.020853331312537193\n",
      "Iteration 3000: Loss 0.020913897082209587\n",
      "Iteration 4000: Loss 0.020816609263420105\n",
      "Iteration 5000: Loss 0.020829297602176666\n",
      "Iteration 6000: Loss 0.02081936039030552\n",
      "Iteration 7000: Loss 0.020868748426437378\n",
      "Iteration 8000: Loss 0.020843926817178726\n",
      "Iteration 9000: Loss 0.020851148292422295\n",
      "Iteration 10000: Loss 0.02086709439754486\n",
      "Training time: 51.23420834541321 seconds\n"
     ]
    }
   ],
   "source": [
    "# Initialize a list to store the loss values\n",
    "loss_values = []\n",
    "\n",
    "# Start the timer\n",
    "start_time = time.time()\n",
    "\n",
    "# Define the number of training iterations\n",
    "num_iterations = 10_001\n",
    "\n",
    "# Train the neural network\n",
    "for i in range(num_iterations):\n",
    "\n",
    "\n",
    "    # Make a prediction based on the input data\n",
    "    prediction_data = neural_net(selected_data)\n",
    "    #prediction_data = prediction_data * (u_grid_tensor.max() - u_grid_tensor.min()) + u_grid_tensor.min()\n",
    "    #prediction_data = (prediction_data - u_grid_tensor.min()) / (u_grid_tensor.max() - u_grid_tensor.min())\n",
    "    #u_grid_tensor_normalized = (u_grid_tensor - u_grid_tensor.min()) / (u_grid_tensor.max() - u_grid_tensor.min())\n",
    "    data_loss = loss_func(prediction_data, output_data_2)\n",
    "    data_loss = data_loss#*1e+10\n",
    "    # Predictions for physics conditions\n",
    "    #prediction_physics_loss = neural_net(input_data)\n",
    "    #prediction_physics_loss = prediction_physics_loss * (torch.max(u_grid_tensor) - torch.min(u_grid_tensor)) + torch.min(u_grid_tensor)\n",
    "\n",
    "    # Compute derivatives of prediction with respect to x and t\n",
    "    #dudx  = mu*torch.autograd.grad(prediction_physics_loss, x_grid_tensor, torch.ones_like(prediction_physics_loss), create_graph=True)[0] # computes du/dx\n",
    "    #dudx2 = torch.autograd.grad(dudx,  x_grid_tensor, torch.ones_like(dudx),  create_graph=True)[0] # computes d^2u/dx^2\n",
    "    #dudt  = torch.autograd.grad(prediction_physics_loss, t_grid_tensor, torch.ones_like(prediction_physics_loss), create_graph=True)[0] # computes du/dt\n",
    "    #dudt2 = torch.autograd.grad(dudt,  t_grid_tensor, torch.ones_like(dudt),  create_graph=True)[0] # computes d^2u/dt^2\n",
    "\n",
    "    # Compute physics condition\n",
    "    #physics =  rho*dudt2 - dudx2 - source_grid_tensor \n",
    "\n",
    "    # Compute loss for physics condition\n",
    "    #physics_loss = torch.mean(physics**2)\n",
    "    #physics_loss = physics_loss\n",
    "    # Calculate the loss\n",
    "    # Total loss is the sum of boundary and physics loss\n",
    "    # Append the current loss value to the list\n",
    "    loss = data_loss\n",
    "    \n",
    "    loss_values.append(loss.item())\n",
    "    \n",
    "    # Print the loss every 1000 iterations\n",
    "    if i % 1000 == 0:\n",
    "        print(f\"Iteration {i}: Loss {loss.item()}\")\n",
    "    \n",
    "    # Clear gradients for the next training iteration\n",
    "    optimizer.zero_grad()\n",
    "    \n",
    "    # Perform backpropagation and compute gradients\n",
    "    loss.backward()\n",
    "    \n",
    "    # Update the weights\n",
    "    optimizer.step()\n",
    "    \n",
    "\n",
    "\n",
    "# Stop the timer and calculate the elapsed time\n",
    "end_time = time.time()\n",
    "elapsed_time = end_time - start_time\n",
    "print(f\"Training time: {elapsed_time} seconds\")\n",
    "\n",
    "# Define the summary file path\n",
    "summary_file_path = \"summaries/5_1D_Wave_Source_PINNs.txt\"\n",
    "\n",
    "# Save a summary of the training process to a text file\n",
    "with open(summary_file_path, \"w\") as file:\n",
    "    file.write(\"Summary of Neural Network Training\\n\")\n",
    "    file.write(\"=================================\\n\\n\")\n",
    "    file.write(f\"Neural Network Architecture:\\n{neural_net}\\n\\n\")\n",
    "    file.write(f\"Optimizer Used:\\n{type(optimizer).__name__}\\n\\n\")\n",
    "    file.write(f\"Learning Rate:\\n{optimizer.param_groups[0]['lr']}\\n\\n\")\n",
    "    file.write(f\"Number of Iterations:\\n{len(loss_values)}\\n\\n\")\n",
    "    file.write(f\"Initial Loss:\\n{loss_values[0]}\\n\\n\")\n",
    "    # Calculate the average loss\n",
    "    average_loss = sum(loss_values) / len(loss_values)\n",
    "    file.write(f\"Average Loss:\\n{average_loss}\\n\\n\")\n",
    "    # Find the iteration with the minimum loss\n",
    "    min_loss_value = min(loss_values)\n",
    "    min_loss_iteration = loss_values.index(min_loss_value)\n",
    "    file.write(f\"Minimum Loss:\\n{min_loss_value} at iteration {min_loss_iteration}\\n\\n\")    \n",
    "    file.write(f\"Final Loss:\\n{loss_values[-1]}\\n\\n\")\n",
    "    file.write(f\"Training Time:\\n{elapsed_time} seconds\\n\\n\")    "
   ]
  },
  {
   "cell_type": "code",
   "execution_count": 403,
   "metadata": {},
   "outputs": [
    {
     "data": {
      "text/plain": [
       "NeuralNetwork(\n",
       "  (layer1): Linear(in_features=2, out_features=20, bias=True)\n",
       "  (layer2): Linear(in_features=20, out_features=20, bias=True)\n",
       "  (layer3): Linear(in_features=20, out_features=20, bias=True)\n",
       "  (output_layer): Linear(in_features=20, out_features=1, bias=True)\n",
       ")"
      ]
     },
     "execution_count": 403,
     "metadata": {},
     "output_type": "execute_result"
    }
   ],
   "source": [
    "# Save the trained model's parameters to a file\n",
    "torch.save(neural_net.state_dict(), 'models/5_1D_Wave_Source_PINNs.pth')\n",
    "\n",
    "# Initialize a new instance of the neural network\n",
    "neural_net = NeuralNetwork()\n",
    "\n",
    "# Load the saved parameters into the new instance of the neural network\n",
    "neural_net.load_state_dict(torch.load('models/5_1D_Wave_Source_PINNs.pth'))\n",
    "\n",
    "# Ensure the new neural network is in evaluation mode\n",
    "neural_net.eval()"
   ]
  },
  {
   "cell_type": "markdown",
   "metadata": {},
   "source": [
    "This cell concatenates normalized x and t grid tensors to form the input data, generates predictions using the trained neural network, rescales the predictions, and then plots the original, predicted, and difference between predicted and original values in a contour graph."
   ]
  },
  {
   "cell_type": "code",
   "execution_count": 404,
   "metadata": {},
   "outputs": [
    {
     "data": {
      "image/png": "[encoded data removed]",
      "text/plain": [
       "<Figure size 900x200 with 6 Axes>"
      ]
     },
     "metadata": {},
     "output_type": "display_data"
    }
   ],
   "source": [
    "# Concatenation of x and y to form the input data\n",
    "input_data = torch.cat((x_grid_tensor_normalized, t_grid_tensor_normalized), dim=-1)\n",
    "\n",
    "# Generate predictions using the neural network and reshape to match grid\n",
    "u_pred = neural_net(input_data).detach().numpy().reshape(x_grid_normalized.shape)\n",
    "\n",
    "# Rescale u_pred\n",
    "u_pred = u_pred * (np.max(u_grid) - np.min(u_grid)) + np.min(u_grid)\n",
    "\n",
    "# Define a function to plot a contour graph\n",
    "def plot_contour(ax, x, y, z, title, label):\n",
    "    im = ax.contourf(x, y, z, origin='lower', levels=50, cmap='plasma', vmax=np.max(u_grid), vmin=np.min(u_grid))#\n",
    "    ax.set_title(title)\n",
    "    ax.set_xlabel('$x$')\n",
    "    ax.set_ylabel('$t$')\n",
    "    fig.colorbar(im, ax=ax, label=label)\n",
    "    # Draw a horizontal line at t=np.max(t_grid)/2\n",
    "    ax.axhline(y=np.max(t_grid)/3, color='yellow')\n",
    "    \n",
    "    \n",
    "\n",
    "# Create a figure with two subplots\n",
    "fig, axs = plt.subplots(1, 3, figsize=(9, 2))\n",
    "\n",
    "# Plot the original u values\n",
    "plot_contour(axs[0], x_grid, t_grid, u_grid, 'Original', '$u$')\n",
    "\n",
    "# Plot the predicted u values\n",
    "plot_contour(axs[1], x_grid, t_grid, u_pred, 'Predicted', '$u_{pred}$')\n",
    "\n",
    "# Plot the difference between the predicted and analytical u values\n",
    "plot_contour(axs[2], x_grid, t_grid, u_pred-u_grid, 'Difference', '$u_{pred}-u$')\n",
    "\n",
    "# Uncomment the following line to save the plot as a PNG file in the 'imgs' directory\n",
    "fig.savefig('imgs/5_Predicted_and_Difference_1D_Wave_Source_PINNs.png', format='png')\n",
    "\n",
    "# Display the plot\n",
    "plt.show()"
   ]
  },
  {
   "cell_type": "markdown",
   "metadata": {},
   "source": [
    "This cell creates a figure with three subplots, defines functions for plotting a contour graph and a line graph, uses these functions to plot the contour graph and two line graphs at different time steps, and finally displays the plot."
   ]
  },
  {
   "cell_type": "code",
   "execution_count": 129,
   "metadata": {},
   "outputs": [
    {
     "data": {
      "image/png": "[encoded data removed]",
      "text/plain": [
       "<Figure size 800x200 with 4 Axes>"
      ]
     },
     "metadata": {},
     "output_type": "display_data"
    }
   ],
   "source": [
    "# Create a figure with three subplots\n",
    "fig, axs = plt.subplots(1, 3, figsize=(8.0, 2.0))\n",
    "\n",
    "# Define the fractions for the horizontal lines and line graphs\n",
    "fractions = [0.35, 0.75]\n",
    "\n",
    "# Define a function to plot a contour graph\n",
    "def plot_contour(ax, x, y, z, fractions):\n",
    "    contourf_plot = ax.contourf(x, y, z, origin='lower', extent=(0, 1, 0, 1), levels=50, cmap='plasma', vmax=np.max(u_grid), vmin=np.min(u_grid))\n",
    "    ax.set_xlabel('$x$')\n",
    "    ax.set_ylabel('t')\n",
    "    fig.colorbar(contourf_plot, ax=ax, label='$u$')\n",
    "    # Draw a horizontal line at t=np.max(t_grid)/2\n",
    "    ax.axhline(y=np.max(t_grid)*0.5, color='yellow')\n",
    "    for fraction in fractions:\n",
    "        ax.axhline(np.max(y)*fraction, color='green')\n",
    "\n",
    "# Define a function to plot a line graph\n",
    "def plot_line(ax, x, y, t):\n",
    "    ax.plot(x, y, color='green', linewidth=2)\n",
    "    ax.set_xlabel('$x$')\n",
    "    ax.set_ylabel('$u$')\n",
    "    ax.set_title(\"$t$: {:.2f} s\".format(t), fontsize=10)\n",
    "\n",
    "# Plot the contour graph\n",
    "plot_contour(axs[0], x_grid, t_grid, u_pred, fractions)\n",
    "\n",
    "# Plot the line graphs\n",
    "for i, fraction in enumerate(fractions, start=1):\n",
    "    plot_line(axs[i], x_grid[int(x_grid.shape[0]*fraction),:], u_pred[int(x_grid.shape[0]*fraction),:], t_grid[int(x_grid.shape[0]*fraction),0])\n",
    "\n",
    "\n",
    "fig.savefig('imgs/5_1D_Wave_Source_PINNs.png', format='png')\n",
    "# Display the plot\n",
    "plt.show()"
   ]
  },
  {
   "cell_type": "code",
   "execution_count": 433,
   "metadata": {},
   "outputs": [],
   "source": [
    "# Convert the numpy arrays to PyTorch tensors\n",
    "# The 'unsqueeze' function is used to add an extra dimension to the tensors\n",
    "x_grid_tensor = torch.from_numpy(x_grid).float().unsqueeze(-1)#.requires_grad_(True)\n",
    "x_grid_tensor_physics = torch.from_numpy(x_grid).float().unsqueeze(-1).requires_grad_(True)\n",
    "t_grid_tensor = torch.from_numpy(t_grid).float().unsqueeze(-1)#.requires_grad_(True)\n",
    "t_grid_tensor_physics = torch.from_numpy(t_grid).float().unsqueeze(-1).requires_grad_(True)\n",
    "u_grid_tensor = torch.from_numpy(u_grid).float().unsqueeze(-1)#.requires_grad_(True)\n",
    "u_grid_tensor_physics = torch.from_numpy(u_grid).float().unsqueeze(-1).requires_grad_(True)\n",
    "source_grid_tensor = torch.from_numpy(source_grid).float().unsqueeze(-1)#.requires_grad_(True)\n",
    "\n",
    "# Normalize the tensors\n",
    "# This is done by subtracting the minimum value and dividing by the range (max - min)\n",
    "x_grid_tensor_normalized = (x_grid_tensor - x_grid_tensor.min()) / (x_grid_tensor.max() - x_grid_tensor.min())#.requires_grad_(True)\n",
    "x_grid_tensor_normalized_physics = (x_grid_tensor_physics - x_grid_tensor_physics.min()) / (x_grid_tensor_physics.max() - x_grid_tensor_physics.min())\n",
    "x_grid_tensor_normalized_physics = x_grid_tensor_normalized_physics.detach().requires_grad_(True)\n",
    "t_grid_tensor_normalized = (t_grid_tensor - t_grid_tensor.min()) / (t_grid_tensor.max() - t_grid_tensor.min())#.requires_grad_(True)\n",
    "t_grid_tensor_normalized_physics = (t_grid_tensor_physics - t_grid_tensor_physics.min()) / (t_grid_tensor_physics.max() - t_grid_tensor_physics.min())\n",
    "t_grid_tensor_normalized_physics = t_grid_tensor_normalized_physics.detach().requires_grad_(True)\n",
    "u_grid_tensor_normalized = (u_grid_tensor - u_grid_tensor.min()) / (u_grid_tensor.max() - u_grid_tensor.min())\n",
    "source_grid_tensor_normalized = (source_grid_tensor - source_grid_tensor.min()) / (source_grid_tensor.max() - source_grid_tensor.min())\n",
    "\n",
    "# Convert the normalized tensors back to numpy arrays for visualization\n",
    "# The 'detach' function is used to remove the tensors from the computation graph\n",
    "# The 'reshape' function is used to restore the original shape of the arrays\n",
    "u_grid_normalized = u_grid_tensor_normalized.detach().numpy().reshape(x_grid.shape)\n",
    "x_grid_normalized = x_grid_tensor_normalized.detach().numpy().reshape(x_grid.shape)\n",
    "t_grid_normalized = t_grid_tensor_normalized.detach().numpy().reshape(x_grid.shape)\n",
    "source_grid_normalized = source_grid_tensor_normalized.detach().numpy().reshape(x_grid.shape)"
   ]
  },
  {
   "cell_type": "code",
   "execution_count": 434,
   "metadata": {},
   "outputs": [
    {
     "name": "stdout",
     "output_type": "stream",
     "text": [
      "torch.Size([200, 200, 1])\n"
     ]
    }
   ],
   "source": [
    "# Concatenate x and t tensors to form the input data\n",
    "input_data = torch.cat((x_grid_tensor_normalized, t_grid_tensor_normalized), dim=-1)\n",
    "input_physics = torch.cat((x_grid_tensor_normalized_physics, t_grid_tensor_normalized_physics), dim=-1)\n",
    "\n",
    "# Define the output data\n",
    "output_data = u_grid_tensor_normalized\n",
    "\n",
    "# Use only a fraction of the input data as the selected indices for training\n",
    "selected_data = input_data[:int(input_data.shape[0]/3), :][:int(input_data.shape[1]), :]\n",
    "\n",
    "# Use only a fraction of the output data as the selected indices for training\n",
    "output_data_2 = output_data[:int(input_data.shape[0]/3), :][:int(input_data.shape[1]), :]\n",
    "\n",
    "# Define the number of random indices to select\n",
    "num_indices_1 = int(selected_data.shape[0]/1)\n",
    "num_indices_2 = int(selected_data.shape[1]/1)\n",
    "\n",
    "\n",
    "# Select random indices from the first dimension of input_data\n",
    "indices_1 = random.sample(range(selected_data.shape[0]), num_indices_1)\n",
    "\n",
    "# Select random indices from the second dimension of input_data\n",
    "indices_2 = random.sample(range(selected_data.shape[1]), num_indices_2)\n",
    "\n",
    "# Use only the selected indices for training\n",
    "selected_data = selected_data[indices_1, :][:, indices_2]\n",
    "\n",
    "# Select the same indices from output_data\n",
    "output_data_2 = output_data[indices_1, :][:, indices_2]\n",
    "\n",
    "# Print the shape of the input data\n",
    "print(x_grid_tensor_normalized.shape)"
   ]
  },
  {
   "cell_type": "code",
   "execution_count": 435,
   "metadata": {},
   "outputs": [],
   "source": [
    "# Define a neural network class with three fully connected layers\n",
    "class NeuralNetwork(nn.Module):\n",
    "    def __init__(self):\n",
    "        super(NeuralNetwork, self).__init__()\n",
    "        # Define the layers\n",
    "        self.layer1 = nn.Linear(2, 20)\n",
    "        self.layer2 = nn.Linear(20, 20)\n",
    "        self.layer3 = nn.Linear(20, 20)\n",
    "        self.output_layer = nn.Linear(20, 1)\n",
    "\n",
    "    def forward(self, x):\n",
    "        # Define the forward pass\n",
    "        x = torch.tanh(self.layer1(x))\n",
    "        x = torch.tanh(self.layer2(x))\n",
    "        x = torch.tanh(self.layer3(x))\n",
    "        x = self.output_layer(x)\n",
    "        return x\n",
    "\n",
    "# Create an instance of the neural network\n",
    "neural_net = NeuralNetwork()\n",
    "\n",
    "# Define the learning rate\n",
    "learning_rate = 0.01\n",
    "\n",
    "# Define an optimizer (Adam) for training the network\n",
    "optimizer = optim.Adam(neural_net.parameters(), lr=learning_rate)\n",
    "\n",
    "# Define a loss function (Mean Squared Error) for training the network\n",
    "loss_func = nn.MSELoss()"
   ]
  },
  {
   "cell_type": "code",
   "execution_count": 437,
   "metadata": {},
   "outputs": [
    {
     "ename": "RuntimeError",
     "evalue": "One of the differentiated Tensors appears to not have been used in the graph. Set allow_unused=True if this is the desired behavior.",
     "output_type": "error",
     "traceback": [
      "\u001b[0;31m---------------------------------------------------------------------------\u001b[0m",
      "\u001b[0;31mRuntimeError\u001b[0m                              Traceback (most recent call last)",
      "Cell \u001b[0;32mIn[437], line 28\u001b[0m\n\u001b[1;32m     25\u001b[0m x_grid_tensor_normalized_physics_id\u001b[38;5;241m.\u001b[39mrequires_grad_(\u001b[38;5;28;01mTrue\u001b[39;00m)\n\u001b[1;32m     26\u001b[0m x_grid_tensor_normalized_physics_id \u001b[38;5;241m=\u001b[39m x_grid_tensor_normalized_physics_id \u001b[38;5;241m*\u001b[39m \u001b[38;5;241m2\u001b[39m    \n\u001b[0;32m---> 28\u001b[0m dudx  \u001b[38;5;241m=\u001b[39m \u001b[43mtorch\u001b[49m\u001b[38;5;241;43m.\u001b[39;49m\u001b[43mautograd\u001b[49m\u001b[38;5;241;43m.\u001b[39;49m\u001b[43mgrad\u001b[49m\u001b[43m(\u001b[49m\u001b[43mprediction_physics_loss\u001b[49m\u001b[43m,\u001b[49m\u001b[43m \u001b[49m\u001b[43mx_grid_tensor_normalized_physics_id\u001b[49m\u001b[43m,\u001b[49m\u001b[43m \u001b[49m\u001b[43mtorch\u001b[49m\u001b[38;5;241;43m.\u001b[39;49m\u001b[43mones_like\u001b[49m\u001b[43m(\u001b[49m\u001b[43mprediction_physics_loss\u001b[49m\u001b[43m)\u001b[49m\u001b[43m,\u001b[49m\u001b[43m \u001b[49m\u001b[43mcreate_graph\u001b[49m\u001b[38;5;241;43m=\u001b[39;49m\u001b[38;5;28;43;01mTrue\u001b[39;49;00m\u001b[43m)\u001b[49m[\u001b[38;5;241m0\u001b[39m]    \u001b[38;5;66;03m#dudx2 = torch.autograd.grad(dudx,  x_grid_tensor_physics, torch.ones_like(dudx),  create_graph=True)[0] # computes d^2u/dx^2\u001b[39;00m\n\u001b[1;32m     30\u001b[0m \u001b[38;5;66;03m#x_grid_tensor_physics_id = x_grid_tensor_normalized_physics.detach()#.clone()\u001b[39;00m\n\u001b[1;32m     31\u001b[0m \u001b[38;5;66;03m#x_grid_tensor_physics_id=x_grid_tensor_physics_id.requires_grad_(True)\u001b[39;00m\n\u001b[1;32m     32\u001b[0m \u001b[38;5;66;03m#x_grid_tensor_physics_id = x_grid_tensor_physics_id #* 2 \u001b[39;00m\n\u001b[0;32m   (...)\u001b[0m\n\u001b[1;32m     40\u001b[0m \n\u001b[1;32m     41\u001b[0m \u001b[38;5;66;03m# Compute physics condition\u001b[39;00m\n\u001b[1;32m     42\u001b[0m physics \u001b[38;5;241m=\u001b[39m  dudx\u001b[38;5;66;03m#dudt2 - dudx2 - source_grid_tensor \u001b[39;00m\n",
      "File \u001b[0;32m~/miniconda3/envs/pinn/lib/python3.12/site-packages/torch/autograd/__init__.py:411\u001b[0m, in \u001b[0;36mgrad\u001b[0;34m(outputs, inputs, grad_outputs, retain_graph, create_graph, only_inputs, allow_unused, is_grads_batched, materialize_grads)\u001b[0m\n\u001b[1;32m    407\u001b[0m     result \u001b[38;5;241m=\u001b[39m _vmap_internals\u001b[38;5;241m.\u001b[39m_vmap(vjp, \u001b[38;5;241m0\u001b[39m, \u001b[38;5;241m0\u001b[39m, allow_none_pass_through\u001b[38;5;241m=\u001b[39m\u001b[38;5;28;01mTrue\u001b[39;00m)(\n\u001b[1;32m    408\u001b[0m         grad_outputs_\n\u001b[1;32m    409\u001b[0m     )\n\u001b[1;32m    410\u001b[0m \u001b[38;5;28;01melse\u001b[39;00m:\n\u001b[0;32m--> 411\u001b[0m     result \u001b[38;5;241m=\u001b[39m \u001b[43mVariable\u001b[49m\u001b[38;5;241;43m.\u001b[39;49m\u001b[43m_execution_engine\u001b[49m\u001b[38;5;241;43m.\u001b[39;49m\u001b[43mrun_backward\u001b[49m\u001b[43m(\u001b[49m\u001b[43m  \u001b[49m\u001b[38;5;66;43;03m# Calls into the C++ engine to run the backward pass\u001b[39;49;00m\n\u001b[1;32m    412\u001b[0m \u001b[43m        \u001b[49m\u001b[43mt_outputs\u001b[49m\u001b[43m,\u001b[49m\n\u001b[1;32m    413\u001b[0m \u001b[43m        \u001b[49m\u001b[43mgrad_outputs_\u001b[49m\u001b[43m,\u001b[49m\n\u001b[1;32m    414\u001b[0m \u001b[43m        \u001b[49m\u001b[43mretain_graph\u001b[49m\u001b[43m,\u001b[49m\n\u001b[1;32m    415\u001b[0m \u001b[43m        \u001b[49m\u001b[43mcreate_graph\u001b[49m\u001b[43m,\u001b[49m\n\u001b[1;32m    416\u001b[0m \u001b[43m        \u001b[49m\u001b[43minputs\u001b[49m\u001b[43m,\u001b[49m\n\u001b[1;32m    417\u001b[0m \u001b[43m        \u001b[49m\u001b[43mallow_unused\u001b[49m\u001b[43m,\u001b[49m\n\u001b[1;32m    418\u001b[0m \u001b[43m        \u001b[49m\u001b[43maccumulate_grad\u001b[49m\u001b[38;5;241;43m=\u001b[39;49m\u001b[38;5;28;43;01mFalse\u001b[39;49;00m\u001b[43m,\u001b[49m\n\u001b[1;32m    419\u001b[0m \u001b[43m    \u001b[49m\u001b[43m)\u001b[49m  \u001b[38;5;66;03m# Calls into the C++ engine to run the backward pass\u001b[39;00m\n\u001b[1;32m    420\u001b[0m \u001b[38;5;28;01mif\u001b[39;00m materialize_grads:\n\u001b[1;32m    421\u001b[0m     \u001b[38;5;28;01mif\u001b[39;00m \u001b[38;5;28many\u001b[39m(\n\u001b[1;32m    422\u001b[0m         result[i] \u001b[38;5;129;01mis\u001b[39;00m \u001b[38;5;28;01mNone\u001b[39;00m \u001b[38;5;129;01mand\u001b[39;00m \u001b[38;5;129;01mnot\u001b[39;00m is_tensor_like(inputs[i])\n\u001b[1;32m    423\u001b[0m         \u001b[38;5;28;01mfor\u001b[39;00m i \u001b[38;5;129;01min\u001b[39;00m \u001b[38;5;28mrange\u001b[39m(\u001b[38;5;28mlen\u001b[39m(inputs))\n\u001b[1;32m    424\u001b[0m     ):\n",
      "\u001b[0;31mRuntimeError\u001b[0m: One of the differentiated Tensors appears to not have been used in the graph. Set allow_unused=True if this is the desired behavior."
     ]
    }
   ],
   "source": [
    "# Initialize a list to store the loss values\n",
    "loss_values = []\n",
    "\n",
    "# Start the timer\n",
    "start_time = time.time()\n",
    "\n",
    "# Define the number of training iterations\n",
    "num_iterations = 10_001\n",
    "\n",
    "# Train the neural network\n",
    "for i in range(num_iterations):\n",
    "\n",
    "\n",
    "    # Make a prediction based on the input data\n",
    "    prediction_data = neural_net(input_data)\n",
    "    #prediction_data = prediction_data * (u_grid_tensor.max() - u_grid_tensor.min()) + u_grid_tensor.min()\n",
    "    #prediction_data = (prediction_data - u_grid_tensor.min()) / (u_grid_tensor.max() - u_grid_tensor.min())\n",
    "    data_loss = loss_func(prediction_data, output_data)\n",
    "    #data_loss = data_loss#*1e+10\n",
    "    # Predictions for physics conditions\n",
    "    prediction_physics_loss = neural_net(input_physics)\n",
    "    prediction_physics_loss = prediction_physics_loss * (u_grid_tensor.max() - u_grid_tensor.min()) + u_grid_tensor.min()\n",
    "    \n",
    "    x_grid_tensor_normalized_physics_id = x_grid_tensor_normalized_physics.detach().clone()\n",
    "    x_grid_tensor_normalized_physics_id.requires_grad_(True)\n",
    "    x_grid_tensor_normalized_physics_id = x_grid_tensor_normalized_physics_id * 2    \n",
    "    \n",
    "    dudx  = torch.autograd.grad(prediction_physics_loss, x_grid_tensor_normalized_physics_id, torch.ones_like(prediction_physics_loss), create_graph=True)[0]    #dudx2 = torch.autograd.grad(dudx,  x_grid_tensor_physics, torch.ones_like(dudx),  create_graph=True)[0] # computes d^2u/dx^2\n",
    "    \n",
    "    #x_grid_tensor_physics_id = x_grid_tensor_normalized_physics.detach()#.clone()\n",
    "    #x_grid_tensor_physics_id=x_grid_tensor_physics_id.requires_grad_(True)\n",
    "    #x_grid_tensor_physics_id = x_grid_tensor_physics_id #* 2 \n",
    "    #x_grid_tensor_normalized_physics = (x_grid_tensor_normalized_physics * (x_grid_tensor_physics.max() - x_grid_tensor_physics.min()) + x_grid_tensor_physics.min())\n",
    "    #x_grid_tensor_normalized_physics=x_grid_tensor_normalized_physics.requires_grad_(True)\n",
    "    # Compute derivatives of prediction with respect to x and t\n",
    "    #dudx = prediction_physics_loss\n",
    "    #x_grid_tensor_physics_id = x_grid_tensor_normalized_physics * 2\n",
    "    #dudt  = torch.autograd.grad(prediction_physics_loss, t_grid_tensor_physics, torch.ones_like(prediction_physics_loss), create_graph=True)[0] # computes du/dt\n",
    "    #dudt2 = torch.autograd.grad(dudt,  t_grid_tensor_physics, torch.ones_like(dudt),  create_graph=True)[0] # computes d^2u/dt^2\n",
    "\n",
    "    # Compute physics condition\n",
    "    physics =  dudx#dudt2 - dudx2 - source_grid_tensor \n",
    "\n",
    "    # Compute loss for physics condition\n",
    "    physics_loss = torch.mean(physics**2)\n",
    "    #physics_loss = physics_loss\n",
    "    # Calculate the loss\n",
    "    # Total loss is the sum of boundary and physics loss\n",
    "    # Append the current loss value to the list\n",
    "    #loss = data_loss+physics#physics_loss\n",
    "    \n",
    "    # Total loss is the sum of boundary and physics loss\n",
    "    loss = data_loss + physics_loss\n",
    "\n",
    "    # Append the current loss value to the list\n",
    "    loss_values.append(loss.item())\n",
    "\n",
    "    # Clear gradients for next train\n",
    "    optimizer.zero_grad()\n",
    "\n",
    "    # Backpropagation, compute gradients\n",
    "    loss.backward()\n",
    "\n",
    "    # Update weights\n",
    "    optimizer.step()\n",
    "    \n",
    "\n",
    "\n",
    "# Stop the timer and calculate the elapsed time\n",
    "end_time = time.time()\n",
    "elapsed_time = end_time - start_time\n",
    "print(f\"Training time: {elapsed_time} seconds\")\n",
    "\n",
    "# Define the summary file path\n",
    "summary_file_path = \"summaries/5_1D_Wave_Source_PINNs.txt\"\n",
    "\n",
    "# Save a summary of the training process to a text file\n",
    "with open(summary_file_path, \"w\") as file:\n",
    "    file.write(\"Summary of Neural Network Training\\n\")\n",
    "    file.write(\"=================================\\n\\n\")\n",
    "    file.write(f\"Neural Network Architecture:\\n{neural_net}\\n\\n\")\n",
    "    file.write(f\"Optimizer Used:\\n{type(optimizer).__name__}\\n\\n\")\n",
    "    file.write(f\"Learning Rate:\\n{optimizer.param_groups[0]['lr']}\\n\\n\")\n",
    "    file.write(f\"Number of Iterations:\\n{len(loss_values)}\\n\\n\")\n",
    "    file.write(f\"Initial Loss:\\n{loss_values[0]}\\n\\n\")\n",
    "    # Calculate the average loss\n",
    "    average_loss = sum(loss_values) / len(loss_values)\n",
    "    file.write(f\"Average Loss:\\n{average_loss}\\n\\n\")\n",
    "    # Find the iteration with the minimum loss\n",
    "    min_loss_value = min(loss_values)\n",
    "    min_loss_iteration = loss_values.index(min_loss_value)\n",
    "    file.write(f\"Minimum Loss:\\n{min_loss_value} at iteration {min_loss_iteration}\\n\\n\")    \n",
    "    file.write(f\"Final Loss:\\n{loss_values[-1]}\\n\\n\")\n",
    "    file.write(f\"Training Time:\\n{elapsed_time} seconds\\n\\n\")    "
   ]
  },
  {
   "cell_type": "code",
   "execution_count": null,
   "metadata": {},
   "outputs": [],
   "source": []
  },
  {
   "cell_type": "code",
   "execution_count": null,
   "metadata": {},
   "outputs": [],
   "source": []
  }
 ],
 "metadata": {
  "kernelspec": {
   "display_name": "pinn",
   "language": "python",
   "name": "python3"
  },
  "language_info": {
   "codemirror_mode": {
    "name": "ipython",
    "version": 3
   },
   "file_extension": ".py",
   "mimetype": "text/x-python",
   "name": "python",
   "nbconvert_exporter": "python",
   "pygments_lexer": "ipython3",
   "version": "3.12.2"
  }
 },
 "nbformat": 4,
 "nbformat_minor": 2
}
