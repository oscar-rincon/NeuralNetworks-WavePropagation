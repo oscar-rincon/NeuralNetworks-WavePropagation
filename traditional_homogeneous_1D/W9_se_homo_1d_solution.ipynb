{
 "cells": [
  {
   "cell_type": "markdown",
   "metadata": {},
   "source": [
    "<div style='background-image: url(\"title01.png\") ; padding: 0px ; background-size: cover ; border-radius: 5px ; height: 200px'>\n",
    "<div style=\"float: right ; margin: 50px ; padding: 20px ; background: rgba(255 , 255 , 255 , 0.7) ; width: 50% ; height: 150px\">\n",
    "        <div style=\"position: relative ; top: 50% ; transform: translatey(-50%)\">\n",
    "            <div style=\"font-size: xx-large ; font-weight: 900 ; color: rgba(0 , 0 , 0 , 0.8) ; line-height: 100%\">Computers, Waves, Simulations</div>\n",
    "            <div style=\"font-size: large ; padding-top: 20px ; color: rgba(0 , 0 , 0 , 0.5)\">Spectral Element Method - Elastic Wave Equation 1D - Homogeneous Case</div>\n",
    "        </div>\n",
    "    </div>\n",
    "</div>"
   ]
  },
  {
   "cell_type": "markdown",
   "metadata": {},
   "source": [
    "This notebook covers the following aspects:\n",
    "* The weak form of the 1D elastic wave equation\n",
    "* Initialization and implementataion of the Mass and Stiffness Matrices\n",
    "* Solution using the finite difference scheme and its comparion with FEM solution"
   ]
  },
  {
   "cell_type": "markdown",
   "metadata": {},
   "source": [
    "## Basic Equations\n",
    "\n",
    "This notebook presents the numerical solution for the 1D elastic wave equation\n",
    "\n",
    "\\begin{equation}\n",
    "\\rho(x) \\partial_t^2 u(x,t) = \\partial_x (\\mu(x) \\partial_x u(x,t)) + f(x,t),\n",
    "\\end{equation}\n",
    "\n",
    "using the spectral element method. This is done after a series of steps summarized as follow:\n",
    "\n",
    "1) The wave equation is written into its weak form\n",
    "\n",
    "2) Assume stress-free boundary condition after integration by parts \n",
    "\n",
    "3) Approximate the wave field as a linear combination of some basis\n",
    "\n",
    "\\begin{equation}\n",
    "u(x,t) \\ \\approx \\ \\overline{u}(x,t) \\ = \\ \\sum_{i=1}^{n} u_i(t) \\ \\varphi_i(x)\n",
    "\\end{equation}\n",
    "\n",
    "4) Use the same basis functions in $u(x, t)$ as test functions in the weak form, the so call Galerkin principle.\n",
    "\n",
    "6) The continuous weak form is written as a system of linear equations by considering the approximated displacement field.\n",
    "\n",
    "\\begin{equation}\n",
    "\\mathbf{M}^T\\partial_t^2 \\mathbf{u} + \\mathbf{K}^T\\mathbf{u} = \\mathbf{f}\n",
    "\\end{equation}\n",
    "\n",
    "7) Time extrapolation with centered finite differences scheme\n",
    "\n",
    "\\begin{equation}\n",
    "\\mathbf{u}(t + dt) = dt^2 (\\mathbf{M}^T)^{-1}[\\mathbf{f} - \\mathbf{K}^T\\mathbf{u}] + 2\\mathbf{u} - \\mathbf{u}(t-dt).\n",
    "\\end{equation}\n",
    "\n",
    "where $\\mathbf{M}$ is known as the mass matrix, and $\\mathbf{K}$ the stiffness matrix.\n",
    "\n",
    "The above solution is exactly the same presented for the classic finite-element method. Now we introduce appropriated basis functions and integration scheme to efficiently solve the system of matrices.\n",
    "\n",
    "#### Interpolation with Lagrange Polynomials\n",
    "At the elemental level, we introduce as interpolating functions the Lagrange polynomials and use $\\xi$ as the space variable representing our elemental domain:\n",
    "\n",
    "\\begin{equation}\n",
    "\\varphi_i \\ \\rightarrow \\ \\ell_i^{(N)} (\\xi) \\ := \\ \\prod_{j \\neq i}^{N+1} \\frac{\\xi - \\xi_j}{\\xi_i-\\xi_j}, \\qquad   i,j = 1, 2, \\dotsc , N + 1  \n",
    "\\end{equation}\n",
    "\n",
    "#### Numerical Integration\n",
    "The integral of a continuous function $f(x)$ can be calculated after replacing $f(x)$ by a polynomial approximation that can be integrated analytically. As interpolating functions we use again the Lagrange polynomials and\n",
    "obtain Gauss-Lobatto-Legendre quadrature. Here, the GLL points are used to perform the integral. \n",
    "\n",
    "\\begin{equation}\n",
    "\\int_{-1}^1 f(x) \\ dx \\approx \\int _{-1}^1 P_N(x) dx = \\sum_{i=1}^{N+1}\n",
    " w_i f(x_i) \n",
    "\\end{equation}\n",
    "\n",
    "\n",
    "\n"
   ]
  },
  {
   "cell_type": "code",
   "execution_count": 1,
   "metadata": {
    "code_folding": [
     0
    ]
   },
   "outputs": [],
   "source": [
    "# Import all necessary libraries, this is a configuration step for the exercise.\n",
    "# Please run it before the simulation code!\n",
    "import numpy as np\n",
    "import matplotlib\n",
    "# Show Plot in The Notebook\n",
    "#matplotlib.use(\"nbagg\")\n",
    "import matplotlib.pyplot as plt\n",
    "%matplotlib inline\n",
    "\n",
    "from gll import gll\n",
    "from lagrange1st import lagrange1st \n",
    "from ricker import ricker\n",
    "\n",
    "# Import a utility module for additional plotting functions\n",
    "import utils_plots"
   ]
  },
  {
   "cell_type": "markdown",
   "metadata": {},
   "source": [
    "### 1. Initialization of setup"
   ]
  },
  {
   "cell_type": "code",
   "execution_count": 240,
   "metadata": {},
   "outputs": [],
   "source": [
    "# Initialization of setup\n",
    "# ---------------------------------------------------------------\n",
    "nt    = 3000       # number of time steps\n",
    "xmax  = 1000.        # Length of domain [m]\n",
    "vs    = 2500.         # S velocity [m/s]\n",
    "rho   = 2200          # Density [kg/m^3]\n",
    "mu    = rho * vs**2   # Shear modulus mu\n",
    "N     = 5           # Order of Lagrange polynomials\n",
    "ne    = 125           # Number of elements\n",
    "Tdom  = 0.1            # Dominant period of Ricker source wavelet\n",
    "iplot = 5            # Plotting each iplot snapshot\n",
    "\n",
    "# variables for elemental matrices\n",
    "Me = np.zeros(N+1, dtype =  float)\n",
    "Ke = np.zeros((N+1, N+1), dtype =  float)\n",
    "# ----------------------------------------------------------------\n",
    "\n",
    "# Initialization of GLL points integration weights\n",
    "[xi, w] = gll(N)    # xi, N+1 coordinates [-1 1] of GLL points\n",
    "                    # w Integration weights at GLL locations\n",
    "# Space domain\n",
    "le = xmax/ne        # Length of elements\n",
    "# Vector with GLL points  \n",
    "k = 0\n",
    "\n",
    "# Initialization of physical coordinates xg in the entire space (commment added May 15, 2020)\n",
    "xg = np.zeros((N*ne)+1) \n",
    "xg[k] = 0\n",
    "for i in range(1,ne+1):\n",
    "    for j in range(0,N):\n",
    "        k = k+1\n",
    "        xg[k] = (i-1)*le + .5*(xi[j+1]+1)*le\n",
    "\n",
    "# ---------------------------------------------------------------\n",
    "dxmin = min(np.diff(xg))  \n",
    "eps = 0.2           # Courant value\n",
    "dt = eps*dxmin/vs   # Global time step\n",
    "\n",
    "# Mapping - Jacobian\n",
    "J = le/2 \n",
    "Ji = 1/J    # Inverse Jacobian\n",
    "\n",
    "# 1st derivative of Lagrange polynomials\n",
    "l1d = lagrange1st(N)   # Array with GLL as columns for each N+1 polynomial\n"
   ]
  },
  {
   "cell_type": "markdown",
   "metadata": {
    "solution2": "hidden",
    "solution2_first": true
   },
   "source": [
    "### 2. The Mass Matrix\n",
    "Now we initialize the mass and stiffness matrices. In general, the mass matrix at the elemental level is given\n",
    "\n",
    "\\begin{equation}\n",
    "M_{ji}^e \\ = \\ w_j  \\ \\rho (\\xi)  \\ \\frac{\\mathrm{d}x}{\\mathrm{d}\\xi} \\delta_{ij} \\vert_ {\\xi = \\xi_j}\n",
    "\\end{equation}\n",
    "\n",
    "\n",
    "We implement the mass matrix using the integration weights at GLL locations $w$, the jacobian $J$, and density $\\rho$. Then, perform the global assembly of the mass matrix, compute its inverse, and display the inverse mass matrix to visually inspect how it looks like."
   ]
  },
  {
   "cell_type": "code",
   "execution_count": 241,
   "metadata": {
    "code_folding": [],
    "solution2": "hidden"
   },
   "outputs": [
    {
     "name": "stderr",
     "output_type": "stream",
     "text": [
      "<>:30: SyntaxWarning: invalid escape sequence '\\m'\n",
      "<>:30: SyntaxWarning: invalid escape sequence '\\m'\n",
      "/tmp/ipykernel_22591/2772609062.py:30: SyntaxWarning: invalid escape sequence '\\m'\n",
      "  plt.title('Mass Matrix $\\mathbf{M}$')\n",
      "/tmp/ipykernel_22591/2772609062.py:32: UserWarning: The figure layout has changed to tight\n",
      "  plt.tight_layout()\n"
     ]
    },
    {
     "data": {
      "image/png": "[encoded data removed]",
      "text/plain": [
       "<Figure size 640x480 with 1 Axes>"
      ]
     },
     "metadata": {},
     "output_type": "display_data"
    }
   ],
   "source": [
    "# Elemental Mass matrix\n",
    "# ---------------------------------------------------------------\n",
    "for i in range(0, N+1):\n",
    "    Me[i] = rho * w[i] * J    #stored as a vector since it's diagonal\n",
    "                                \n",
    "# Global Mass matrix\n",
    "# --------------------------------------------------------------- \n",
    "k = -1\n",
    "ng = (ne-1)*N + N + 1\n",
    "M = np.zeros(2*ng) \n",
    "\n",
    "for i in range(1, ne+1):  \n",
    "    for j in range(0, N+1): \n",
    "        k = k + 1\n",
    "        if i>1:\n",
    "            if j==0:\n",
    "                k = k - 1\n",
    "        M[k] = M[k] + Me[j]\n",
    "\n",
    "# Inverse matrix of M \n",
    "# --------------------------------------------------------------- \n",
    "Minv = np.identity(ng)\n",
    "for i in range(0,ng):\n",
    "    Minv[i,i] = 1./M[i]\n",
    "    \n",
    "# --------------------------------------------------------------\n",
    "# Display inverse mass matrix inv(M)\n",
    "# --------------------------------------------------------------\n",
    "plt.imshow(Minv)\n",
    "plt.title('Mass Matrix $\\mathbf{M}$')\n",
    "plt.axis(\"off\")\n",
    "plt.tight_layout()\n",
    "plt.show()     "
   ]
  },
  {
   "cell_type": "markdown",
   "metadata": {
    "solution2": "hidden",
    "solution2_first": true
   },
   "source": [
    "### 3. The Stiffness matrix\n",
    "On the other hand, the general form of the stiffness matrix at the elemtal level is\n",
    "\n",
    "\\begin{equation}\n",
    "K_{ji}^e \\ = \\ \\sum_{k = 1}^{N+1} w_k \\mu (\\xi) \\partial_\\xi \\ell_j (\\xi) \\partial_\\xi \\ell_i (\\xi) \\left(\\frac{\\mathrm{d}\\xi}{\\mathrm{d}x} \\right)^2 \\frac{\\mathrm{d}x}{\\mathrm{d}\\xi} \\vert_{\\xi = \\xi_k}\n",
    "\\end{equation} \n",
    "\n",
    "We implement the stiffness matrix using the integration weights at GLL locations $w$, the jacobian $J$, and shear stress $\\mu$. Then, perform the global assembly of the mass matrix and display the matrix to visually inspect how it looks like."
   ]
  },
  {
   "cell_type": "code",
   "execution_count": 242,
   "metadata": {
    "solution2": "hidden"
   },
   "outputs": [
    {
     "name": "stderr",
     "output_type": "stream",
     "text": [
      "<>:30: SyntaxWarning: invalid escape sequence '\\m'\n",
      "<>:30: SyntaxWarning: invalid escape sequence '\\m'\n",
      "/tmp/ipykernel_22591/127716046.py:30: SyntaxWarning: invalid escape sequence '\\m'\n",
      "  plt.title('Stiffness Matrix $\\mathbf{K}$')\n",
      "/tmp/ipykernel_22591/127716046.py:33: UserWarning: The figure layout has changed to tight\n",
      "  plt.tight_layout()\n"
     ]
    },
    {
     "data": {
      "image/png": "[encoded data removed]",
      "text/plain": [
       "<Figure size 640x480 with 1 Axes>"
      ]
     },
     "metadata": {},
     "output_type": "display_data"
    }
   ],
   "source": [
    "# Elemental Stiffness Matrix\n",
    "# ---------------------------------------------------------------\n",
    "for i in range(0, N+1):\n",
    "    for j in range(0, N+1):\n",
    "        for k in range(0, N+1):\n",
    "            Ke[i,j] = Ke[i,j] + mu*w[k]*Ji*l1d[i,k]*l1d[j,k]\n",
    "        \n",
    "# Global Stiffness Matrix\n",
    "# --------------------------------------------------------------- \n",
    "K = np.zeros([ng, ng])\n",
    "# Values except at element boundaries \n",
    "for k in range(1,ne+1):\n",
    "    i0 = (k-1)*N + 1\n",
    "    j0 = i0\n",
    "    for i in range(-1,N):\n",
    "        for j in range(-1,N):\n",
    "            K[i0+i,j0+j] = Ke[i+1,j+1]\n",
    "            \n",
    "# Values at element boundaries \n",
    "for k in range(2,ne+1):\n",
    "    i0 = (k - 1)*N\n",
    "    j0 = i0\n",
    "    K[i0,j0] = Ke[0,0] + Ke[N,N]\n",
    "       \n",
    "\n",
    "# --------------------------------------------------------------\n",
    "# Display stiffness matrix K\n",
    "# --------------------------------------------------------------\n",
    "plt.imshow(K)\n",
    "plt.title('Stiffness Matrix $\\mathbf{K}$')\n",
    "plt.axis(\"off\")\n",
    "\n",
    "plt.tight_layout()\n",
    "plt.show()"
   ]
  },
  {
   "cell_type": "markdown",
   "metadata": {},
   "source": [
    "### 4. Spectral Element solution \n",
    "\n",
    "Finally we implement the spectral element solution using the computed mass $M$ and stiffness $K$ matrices together with a finite differences extrapolation scheme\n",
    "\n",
    "\\begin{equation}\n",
    "\\mathbf{u}(t + dt) = dt^2 (\\mathbf{M}^T)^{-1}[\\mathbf{f} - \\mathbf{K}^T\\mathbf{u}] + 2\\mathbf{u} - \\mathbf{u}(t-dt).\n",
    "\\end{equation}"
   ]
  },
  {
   "cell_type": "code",
   "execution_count": 397,
   "metadata": {
    "code_folding": [
     39
    ]
   },
   "outputs": [],
   "source": [
    "# SE Solution, Time extrapolation\n",
    "# ---------------------------------------------------------------\n",
    "factor = 10e+8\n",
    "# initialize source time function and force vector f\n",
    "#src  = factor*ricker(dt,Tdom)\n",
    "\n",
    "\n",
    "t = np.linspace(0 * dt, nt * dt, nt)\n",
    "f0 = 25. # dominant frequency of the source (Hz)\n",
    "t0 = 1.0 / f0 # source time shift\n",
    "a = np.pi*np.pi*f0*f0\n",
    "#src = factor * np.exp(-a*(t-t0)**2) / (2 * a)\n",
    "#src = -factor * (t-t0)*np.exp(-a*(t-t0)**2)\n",
    "src = - factor * (1 - 2*a*(t-t0)**2)*np.exp(-a*(t-t0)**2)\n",
    "# Source time function (Gaussian)\n",
    "# -------------------------------\n",
    "# Source time function parameters\n",
    "# f0   = 25. # dominant frequency of the source (Hz)\n",
    "# t0   = 0.5 / f0 # source time shift\n",
    "# factor = 10e+8 \n",
    "# src  = np.zeros(nt + 1)\n",
    "# time = np.linspace(0 * dt, nt * dt, nt)\n",
    "# # 1st derivative of a Gaussian\n",
    "# src  = factor*-8. * (time - t0) * f0 * (np.exp(-1.0 * (4*f0) ** 2 * (time - t0) ** 2))\n",
    "\n",
    "isrc = int(np.floor(ng/2))   # Source location\n",
    "\n",
    "# Initialization of solution vectors\n",
    "u = np.zeros(ng)\n",
    "uold = u\n",
    "unew = u\n",
    "f = u \n",
    " \n",
    "\n",
    "# Initialize a list to store the values of u\n",
    "u_values = []\n",
    "\n",
    "# ---------------------------------------------------------------\n",
    "# Time extrapolation\n",
    "# ---------------------------------------------------------------\n",
    "for it in range(nt): \n",
    "    # Source initialization\n",
    "    f= np.zeros(ng)\n",
    "    if it < len(src):\n",
    "        f[isrc-1] = src[it-1] \n",
    "               \n",
    "    # Time extrapolation\n",
    "    unew = dt**2 * Minv @ (f - K @ u) + 2 * u - uold\n",
    "    uold, u = u, unew\n",
    "\n",
    "    # Store the current value of u\n",
    "    u_values.append(u.copy())"
   ]
  },
  {
   "cell_type": "code",
   "execution_count": 398,
   "metadata": {},
   "outputs": [
    {
     "data": {
      "image/png": "[encoded data removed]",
      "text/plain": [
       "<Figure size 300x250 with 1 Axes>"
      ]
     },
     "metadata": {},
     "output_type": "display_data"
    }
   ],
   "source": [
    "# Create a figure for the plot\n",
    "fig, ax = plt.subplots(figsize=(3.0, 2.5))\n",
    "\n",
    "# Plot the function\n",
    "ax.plot(xg, u_values[2500], color='gray', linewidth=2)\n",
    "\n",
    "# Set the labels for the x and y axes\n",
    "ax.set_xlabel('$x$')\n",
    "ax.set_ylabel('$u$')\n",
    "\n",
    "# Display the grid\n",
    "ax.grid(True)\n",
    "\n",
    "# Display the plot\n",
    "plt.show()"
   ]
  },
  {
   "cell_type": "code",
   "execution_count": 399,
   "metadata": {},
   "outputs": [],
   "source": [
    "# Create an array of time points\n",
    "t = np.linspace(0, nt*dt, nt)\n",
    "\n",
    "# Create a grid of x and t values\n",
    "# np.meshgrid creates a rectangular grid out of two given one-dimensional arrays\n",
    "# xg represents the spatial domain, t represents the time domain\n",
    "x_grid, t_grid = np.meshgrid(xg, t)\n"
   ]
  },
  {
   "cell_type": "code",
   "execution_count": 400,
   "metadata": {},
   "outputs": [
    {
     "data": {
      "image/png": "[encoded data removed]",
      "text/plain": [
       "<Figure size 320x220 with 2 Axes>"
      ]
     },
     "metadata": {},
     "output_type": "display_data"
    }
   ],
   "source": [
    "# Create a figure for the plot\n",
    "# figsize sets the width and height of the figure in inches\n",
    "fig = plt.figure(figsize=(3.2, 2.2))\n",
    "\n",
    "# Plot the u values as a function of t and x\n",
    "plt.contourf(x_grid,t_grid, u_values, levels=20)#, origin='lower'\n",
    "#plt.ylim([3500,4000])\n",
    "#plt.xlim([400,600])\n",
    "# Add a colorbar to the plot, with label 'u'\n",
    "plt.colorbar(label='$u$')\n",
    "\n",
    "# Add contour lines to the plot\n",
    "#plt.contour(t_grid, x_grid, u_values, levels=50, colors='white', alpha=0.2, linestyles='solid')\n",
    "\n",
    "# Label the x and y axes\n",
    "plt.xlabel('$x$')\n",
    "plt.ylabel('$t$')\n",
    "\n",
    "# Display the plot\n",
    "plt.show()"
   ]
  },
  {
   "cell_type": "code",
   "execution_count": 401,
   "metadata": {},
   "outputs": [
    {
     "data": {
      "image/png": "[encoded data removed]",
      "text/plain": [
       "<Figure size 320x220 with 1 Axes>"
      ]
     },
     "metadata": {},
     "output_type": "display_data"
    }
   ],
   "source": [
    "# figsize sets the width and height of the figure in inches\n",
    "fig = plt.figure(figsize=(3.2, 2.2))\n",
    "\n",
    "# Plot the u values as a function of t and x\n",
    "plt.plot(t,np.array(u_values)[:,313])#, origin='lower'\n",
    "#plt.ylim([3500,4000])\n",
    "#plt.xlim([400,600])\n",
    "# Add a colorbar to the plot, with label 'u'\n",
    "#plt.colorbar(label='$u$')\n",
    "\n",
    "# Add contour lines to the plot\n",
    "#plt.contour(t_grid, x_grid, u_values, levels=50, colors='white', alpha=0.2, linestyles='solid')\n",
    "\n",
    "# Label the x and y axes\n",
    "plt.xlabel('$t$')\n",
    "plt.ylabel('$f$')\n",
    "\n",
    "# Display the plot\n",
    "plt.show()"
   ]
  },
  {
   "cell_type": "code",
   "execution_count": 402,
   "metadata": {},
   "outputs": [
    {
     "data": {
      "text/plain": [
       "(300, 626)"
      ]
     },
     "execution_count": 402,
     "metadata": {},
     "output_type": "execute_result"
    }
   ],
   "source": [
    "np.shape(u_values[0:300])"
   ]
  },
  {
   "cell_type": "code",
   "execution_count": 403,
   "metadata": {},
   "outputs": [
    {
     "data": {
      "text/plain": [
       "-0.00018484677345969984"
      ]
     },
     "execution_count": 403,
     "metadata": {},
     "output_type": "execute_result"
    }
   ],
   "source": [
    "np.shape(u_values)\n",
    "\n",
    "u_values[2500][300]"
   ]
  },
  {
   "cell_type": "code",
   "execution_count": 404,
   "metadata": {},
   "outputs": [
    {
     "data": {
      "text/plain": [
       "(3000, 626)"
      ]
     },
     "execution_count": 404,
     "metadata": {},
     "output_type": "execute_result"
    }
   ],
   "source": [
    "np.shape(np.array(u_values))"
   ]
  },
  {
   "cell_type": "code",
   "execution_count": 405,
   "metadata": {},
   "outputs": [
    {
     "data": {
      "image/png": "[encoded data removed]",
      "text/plain": [
       "<Figure size 250x180 with 1 Axes>"
      ]
     },
     "metadata": {},
     "output_type": "display_data"
    }
   ],
   "source": [
    "# Create a figure for the plot\n",
    "fig, ax = plt.subplots(figsize=(2.5, 1.8))\n",
    "\n",
    "# Plot the function\n",
    "ax.plot(src, color='gray', linewidth=2)\n",
    "\n",
    "# Set the labels for the x and y axes\n",
    "ax.set_xlabel('$t$')\n",
    "ax.set_ylabel('$p$')\n",
    "\n",
    "# Display the grid\n",
    "ax.grid(True)\n",
    "\n",
    "# Set the title for the plot\n",
    "#ax.set_title(r'$y=\\sin(x)$')\n",
    "\n",
    "# Save the plot as a PDF file in the 'imgs' directory\n",
    "#fig.savefig('imgs/1_sine_function.png', format='png')\n",
    "\n",
    "# Display the plot\n",
    "plt.show()"
   ]
  },
  {
   "cell_type": "code",
   "execution_count": null,
   "metadata": {},
   "outputs": [],
   "source": []
  },
  {
   "cell_type": "code",
   "execution_count": null,
   "metadata": {},
   "outputs": [],
   "source": []
  }
 ],
 "metadata": {
  "anaconda-cloud": {},
  "kernelspec": {
   "display_name": "Python 3",
   "language": "python",
   "name": "python3"
  },
  "language_info": {
   "codemirror_mode": {
    "name": "ipython",
    "version": 3
   },
   "file_extension": ".py",
   "mimetype": "text/x-python",
   "name": "python",
   "nbconvert_exporter": "python",
   "pygments_lexer": "ipython3",
   "version": "3.12.2"
  }
 },
 "nbformat": 4,
 "nbformat_minor": 1
}
